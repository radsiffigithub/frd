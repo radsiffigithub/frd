{
  "nbformat": 4,
  "nbformat_minor": 0,
  "metadata": {
    "accelerator": "GPU",
    "colab": {
      "name": "basicMLmodelsDecepOpSpam (1).ipynb",
      "provenance": [],
      "collapsed_sections": []
    },
    "kernelspec": {
      "display_name": "Python 3",
      "language": "python",
      "name": "python3"
    },
    "language_info": {
      "codemirror_mode": {
        "name": "ipython",
        "version": 3
      },
      "file_extension": ".py",
      "mimetype": "text/x-python",
      "name": "python",
      "nbconvert_exporter": "python",
      "pygments_lexer": "ipython3",
      "version": "3.8.5"
    }
  },
  "cells": [
    {
      "cell_type": "code",
      "metadata": {
        "id": "x6AxgEhb_Yhd",
        "colab": {
          "base_uri": "https://localhost:8080/"
        },
        "outputId": "a495a2e9-1ef7-43d7-d817-414c64cbc2c8"
      },
      "source": [
        "from google.colab import drive\n",
        "drive.mount('/content/drive')"
      ],
      "execution_count": 1,
      "outputs": [
        {
          "output_type": "stream",
          "name": "stdout",
          "text": [
            "Mounted at /content/drive\n"
          ]
        }
      ]
    },
    {
      "cell_type": "code",
      "metadata": {
        "colab": {
          "base_uri": "https://localhost:8080/"
        },
        "id": "bJFdVGYz6zYm",
        "outputId": "b88322e3-78ea-45cf-de93-44e5997e85f8"
      },
      "source": [
        "# This Python 3 environment comes with many helpful analytics libraries installed\n",
        "# It is defined by the kaggle/python docker image: https://github.com/kaggle/docker-python\n",
        "# For example, here's several helpful packages to load in \n",
        "\n",
        "import numpy as np # linear algebra\n",
        "import pandas as pd # data processing, CSV file I/O (e.g. pd.read_csv)\n",
        "\n",
        "# Input data files are available in the \"../input/\" directory.\n",
        "# For example, running this (by clicking run or pressing Shift+Enter) will list all files under the input directory\n",
        "\n",
        "import os\n",
        "#for dirname, _, filenames in os.walk('/kaggle/input'):\n",
        "for dirname, _, filenames in os.walk('/content/drive/MyDrive/frd/deceptive-opinion'):\n",
        "    for filename in filenames:\n",
        "        print(os.path.join(dirname, filename))\n",
        "\n",
        "# Any results you write to the current directory are saved as output."
      ],
      "execution_count": 2,
      "outputs": [
        {
          "output_type": "stream",
          "name": "stdout",
          "text": [
            "/content/drive/MyDrive/frd/deceptive-opinion/deceptive-opinion.csv\n"
          ]
        }
      ]
    },
    {
      "cell_type": "code",
      "metadata": {
        "id": "kWJG0YWr6zY6"
      },
      "source": [
        "import re\n",
        "import string\n",
        "from nltk.corpus import stopwords\n",
        "from bs4 import BeautifulSoup\n",
        "import nltk\n",
        "from nltk.corpus import stopwords\n",
        "from nltk.stem import SnowballStemmer\n",
        "\n",
        "import seaborn as sns\n",
        "import matplotlib.pyplot as plt"
      ],
      "execution_count": 3,
      "outputs": []
    },
    {
      "cell_type": "code",
      "metadata": {
        "id": "wysw6bpovCzw"
      },
      "source": [
        "from sklearn.tree import DecisionTreeClassifier\n",
        "from sklearn.ensemble import RandomForestClassifier, BaggingClassifier, GradientBoostingClassifier,AdaBoostClassifier\n",
        "from sklearn import datasets # import inbuild datasets\n",
        "\n",
        "from sklearn.model_selection import train_test_split\n",
        "from sklearn import metrics\n",
        "\n",
        "from sklearn.model_selection import cross_val_score, cross_val_predict\n",
        "from sklearn.metrics import confusion_matrix"
      ],
      "execution_count": 4,
      "outputs": []
    },
    {
      "cell_type": "code",
      "metadata": {
        "colab": {
          "base_uri": "https://localhost:8080/"
        },
        "id": "psH4qyVPHmpG",
        "outputId": "316479c2-f05a-4055-b9b3-74e49e095c95"
      },
      "source": [
        "pip install neattext"
      ],
      "execution_count": 5,
      "outputs": [
        {
          "output_type": "stream",
          "name": "stdout",
          "text": [
            "Collecting neattext\n",
            "  Downloading neattext-0.1.2-py3-none-any.whl (114 kB)\n",
            "\u001b[?25l\r\u001b[K     |██▉                             | 10 kB 17.1 MB/s eta 0:00:01\r\u001b[K     |█████▊                          | 20 kB 20.7 MB/s eta 0:00:01\r\u001b[K     |████████▋                       | 30 kB 12.6 MB/s eta 0:00:01\r\u001b[K     |███████████▌                    | 40 kB 10.6 MB/s eta 0:00:01\r\u001b[K     |██████████████▍                 | 51 kB 4.6 MB/s eta 0:00:01\r\u001b[K     |█████████████████▏              | 61 kB 4.9 MB/s eta 0:00:01\r\u001b[K     |████████████████████            | 71 kB 4.5 MB/s eta 0:00:01\r\u001b[K     |███████████████████████         | 81 kB 5.0 MB/s eta 0:00:01\r\u001b[K     |█████████████████████████▉      | 92 kB 5.0 MB/s eta 0:00:01\r\u001b[K     |████████████████████████████▊   | 102 kB 4.3 MB/s eta 0:00:01\r\u001b[K     |███████████████████████████████▋| 112 kB 4.3 MB/s eta 0:00:01\r\u001b[K     |████████████████████████████████| 114 kB 4.3 MB/s \n",
            "\u001b[?25hInstalling collected packages: neattext\n",
            "Successfully installed neattext-0.1.2\n"
          ]
        }
      ]
    },
    {
      "cell_type": "code",
      "metadata": {
        "id": "EIAdh8HpHeyk"
      },
      "source": [
        "import neattext.functions as nfx\n",
        "from textblob import TextBlob"
      ],
      "execution_count": 6,
      "outputs": []
    },
    {
      "cell_type": "code",
      "metadata": {
        "id": "VgUDw8CJ6zY8"
      },
      "source": [
        "#df = pd.read_csv('/kaggle/input/deceptive-opinion-spam-corpus/deceptive-opinion.csv')\n",
        "df = pd.read_csv('/content/drive/MyDrive/frd/amazon_reviews/new_amazon_reviews.csv')"
      ],
      "execution_count": 7,
      "outputs": []
    },
    {
      "cell_type": "code",
      "metadata": {
        "id": "nFttuqtyGnh4"
      },
      "source": [
        "#reading txt directly\n",
        "#df = pd.read_csv('/content/drive/MyDrive/frd/amazon_reviews/amazon_reviews.txt', sep='\\t')\n",
        "\n",
        "\n",
        "# df = pd.read_csv('training.txt', sep='\\t')\n",
        "# sentiment_data.columns =['Class', 'Data']"
      ],
      "execution_count": 8,
      "outputs": []
    },
    {
      "cell_type": "code",
      "metadata": {
        "colab": {
          "base_uri": "https://localhost:8080/",
          "height": 293
        },
        "id": "EAbeEKzj6zY9",
        "outputId": "d927286b-69f4-4f08-b998-4b928a554f86"
      },
      "source": [
        "df.head()"
      ],
      "execution_count": 9,
      "outputs": [
        {
          "output_type": "execute_result",
          "data": {
            "text/html": [
              "<div>\n",
              "<style scoped>\n",
              "    .dataframe tbody tr th:only-of-type {\n",
              "        vertical-align: middle;\n",
              "    }\n",
              "\n",
              "    .dataframe tbody tr th {\n",
              "        vertical-align: top;\n",
              "    }\n",
              "\n",
              "    .dataframe thead th {\n",
              "        text-align: right;\n",
              "    }\n",
              "</style>\n",
              "<table border=\"1\" class=\"dataframe\">\n",
              "  <thead>\n",
              "    <tr style=\"text-align: right;\">\n",
              "      <th></th>\n",
              "      <th>DOC_ID</th>\n",
              "      <th>LABEL</th>\n",
              "      <th>RATING</th>\n",
              "      <th>VERIFIED_PURCHASE</th>\n",
              "      <th>PRODUCT_CATEGORY</th>\n",
              "      <th>PRODUCT_ID</th>\n",
              "      <th>PRODUCT_TITLE</th>\n",
              "      <th>REVIEW_TITLE</th>\n",
              "      <th>REVIEW_TEXT</th>\n",
              "    </tr>\n",
              "  </thead>\n",
              "  <tbody>\n",
              "    <tr>\n",
              "      <th>0</th>\n",
              "      <td>1</td>\n",
              "      <td>__label1__</td>\n",
              "      <td>4</td>\n",
              "      <td>N</td>\n",
              "      <td>PC</td>\n",
              "      <td>B00008NG7N</td>\n",
              "      <td>Targus PAUK10U Ultra Mini USB Keypad, Black</td>\n",
              "      <td>useful</td>\n",
              "      <td>When least you think so, this product will sav...</td>\n",
              "    </tr>\n",
              "    <tr>\n",
              "      <th>1</th>\n",
              "      <td>2</td>\n",
              "      <td>__label1__</td>\n",
              "      <td>4</td>\n",
              "      <td>Y</td>\n",
              "      <td>Wireless</td>\n",
              "      <td>B00LH0Y3NM</td>\n",
              "      <td>Note 3 Battery : Stalion Strength Replacement ...</td>\n",
              "      <td>New era for batteries</td>\n",
              "      <td>Lithium batteries are something new introduced...</td>\n",
              "    </tr>\n",
              "    <tr>\n",
              "      <th>2</th>\n",
              "      <td>3</td>\n",
              "      <td>__label1__</td>\n",
              "      <td>3</td>\n",
              "      <td>N</td>\n",
              "      <td>Baby</td>\n",
              "      <td>B000I5UZ1Q</td>\n",
              "      <td>Fisher-Price Papasan Cradle Swing, Starlight</td>\n",
              "      <td>doesn't swing very well.</td>\n",
              "      <td>I purchased this swing for my baby. She is 6 m...</td>\n",
              "    </tr>\n",
              "    <tr>\n",
              "      <th>3</th>\n",
              "      <td>4</td>\n",
              "      <td>__label1__</td>\n",
              "      <td>4</td>\n",
              "      <td>N</td>\n",
              "      <td>Office Products</td>\n",
              "      <td>B003822IRA</td>\n",
              "      <td>Casio MS-80B Standard Function Desktop Calculator</td>\n",
              "      <td>Great computing!</td>\n",
              "      <td>I was looking for an inexpensive desk calcolat...</td>\n",
              "    </tr>\n",
              "    <tr>\n",
              "      <th>4</th>\n",
              "      <td>5</td>\n",
              "      <td>__label1__</td>\n",
              "      <td>4</td>\n",
              "      <td>N</td>\n",
              "      <td>Beauty</td>\n",
              "      <td>B00PWSAXAM</td>\n",
              "      <td>Shine Whitening - Zero Peroxide Teeth Whitenin...</td>\n",
              "      <td>Only use twice a week</td>\n",
              "      <td>I only use it twice a week and the results are...</td>\n",
              "    </tr>\n",
              "  </tbody>\n",
              "</table>\n",
              "</div>"
            ],
            "text/plain": [
              "   DOC_ID  ...                                        REVIEW_TEXT\n",
              "0       1  ...  When least you think so, this product will sav...\n",
              "1       2  ...  Lithium batteries are something new introduced...\n",
              "2       3  ...  I purchased this swing for my baby. She is 6 m...\n",
              "3       4  ...  I was looking for an inexpensive desk calcolat...\n",
              "4       5  ...  I only use it twice a week and the results are...\n",
              "\n",
              "[5 rows x 9 columns]"
            ]
          },
          "metadata": {},
          "execution_count": 9
        }
      ]
    },
    {
      "cell_type": "code",
      "metadata": {
        "id": "Vawxp_KW6zY-"
      },
      "source": [
        "df = df.drop([\"DOC_ID\", \"PRODUCT_CATEGORY\",\"PRODUCT_ID\",\"PRODUCT_TITLE\",\"REVIEW_TITLE\"], axis=1)"
      ],
      "execution_count": 10,
      "outputs": []
    },
    {
      "cell_type": "code",
      "metadata": {
        "colab": {
          "base_uri": "https://localhost:8080/",
          "height": 206
        },
        "id": "BJk5yhe34Us6",
        "outputId": "31fbb3a2-13b2-498c-8796-7c4a2dd767a1"
      },
      "source": [
        "df.head()"
      ],
      "execution_count": 11,
      "outputs": [
        {
          "output_type": "execute_result",
          "data": {
            "text/html": [
              "<div>\n",
              "<style scoped>\n",
              "    .dataframe tbody tr th:only-of-type {\n",
              "        vertical-align: middle;\n",
              "    }\n",
              "\n",
              "    .dataframe tbody tr th {\n",
              "        vertical-align: top;\n",
              "    }\n",
              "\n",
              "    .dataframe thead th {\n",
              "        text-align: right;\n",
              "    }\n",
              "</style>\n",
              "<table border=\"1\" class=\"dataframe\">\n",
              "  <thead>\n",
              "    <tr style=\"text-align: right;\">\n",
              "      <th></th>\n",
              "      <th>LABEL</th>\n",
              "      <th>RATING</th>\n",
              "      <th>VERIFIED_PURCHASE</th>\n",
              "      <th>REVIEW_TEXT</th>\n",
              "    </tr>\n",
              "  </thead>\n",
              "  <tbody>\n",
              "    <tr>\n",
              "      <th>0</th>\n",
              "      <td>__label1__</td>\n",
              "      <td>4</td>\n",
              "      <td>N</td>\n",
              "      <td>When least you think so, this product will sav...</td>\n",
              "    </tr>\n",
              "    <tr>\n",
              "      <th>1</th>\n",
              "      <td>__label1__</td>\n",
              "      <td>4</td>\n",
              "      <td>Y</td>\n",
              "      <td>Lithium batteries are something new introduced...</td>\n",
              "    </tr>\n",
              "    <tr>\n",
              "      <th>2</th>\n",
              "      <td>__label1__</td>\n",
              "      <td>3</td>\n",
              "      <td>N</td>\n",
              "      <td>I purchased this swing for my baby. She is 6 m...</td>\n",
              "    </tr>\n",
              "    <tr>\n",
              "      <th>3</th>\n",
              "      <td>__label1__</td>\n",
              "      <td>4</td>\n",
              "      <td>N</td>\n",
              "      <td>I was looking for an inexpensive desk calcolat...</td>\n",
              "    </tr>\n",
              "    <tr>\n",
              "      <th>4</th>\n",
              "      <td>__label1__</td>\n",
              "      <td>4</td>\n",
              "      <td>N</td>\n",
              "      <td>I only use it twice a week and the results are...</td>\n",
              "    </tr>\n",
              "  </tbody>\n",
              "</table>\n",
              "</div>"
            ],
            "text/plain": [
              "        LABEL  ...                                        REVIEW_TEXT\n",
              "0  __label1__  ...  When least you think so, this product will sav...\n",
              "1  __label1__  ...  Lithium batteries are something new introduced...\n",
              "2  __label1__  ...  I purchased this swing for my baby. She is 6 m...\n",
              "3  __label1__  ...  I was looking for an inexpensive desk calcolat...\n",
              "4  __label1__  ...  I only use it twice a week and the results are...\n",
              "\n",
              "[5 rows x 4 columns]"
            ]
          },
          "metadata": {},
          "execution_count": 11
        }
      ]
    },
    {
      "cell_type": "code",
      "metadata": {
        "id": "ZrBnC1_S6zY_"
      },
      "source": [
        "df = df.sample(frac=1)"
      ],
      "execution_count": 12,
      "outputs": []
    },
    {
      "cell_type": "code",
      "metadata": {
        "colab": {
          "base_uri": "https://localhost:8080/",
          "height": 206
        },
        "id": "7O4kU7Fd6zZA",
        "outputId": "a7e50145-22ad-475e-f98c-ebb4092b79e7"
      },
      "source": [
        "df.head()"
      ],
      "execution_count": 13,
      "outputs": [
        {
          "output_type": "execute_result",
          "data": {
            "text/html": [
              "<div>\n",
              "<style scoped>\n",
              "    .dataframe tbody tr th:only-of-type {\n",
              "        vertical-align: middle;\n",
              "    }\n",
              "\n",
              "    .dataframe tbody tr th {\n",
              "        vertical-align: top;\n",
              "    }\n",
              "\n",
              "    .dataframe thead th {\n",
              "        text-align: right;\n",
              "    }\n",
              "</style>\n",
              "<table border=\"1\" class=\"dataframe\">\n",
              "  <thead>\n",
              "    <tr style=\"text-align: right;\">\n",
              "      <th></th>\n",
              "      <th>LABEL</th>\n",
              "      <th>RATING</th>\n",
              "      <th>VERIFIED_PURCHASE</th>\n",
              "      <th>REVIEW_TEXT</th>\n",
              "    </tr>\n",
              "  </thead>\n",
              "  <tbody>\n",
              "    <tr>\n",
              "      <th>11805</th>\n",
              "      <td>__label2__</td>\n",
              "      <td>5</td>\n",
              "      <td>Y</td>\n",
              "      <td>B+W is the brand you want if you're looking fo...</td>\n",
              "    </tr>\n",
              "    <tr>\n",
              "      <th>7616</th>\n",
              "      <td>__label1__</td>\n",
              "      <td>5</td>\n",
              "      <td>N</td>\n",
              "      <td>Oh my God, really fell in love with the precio...</td>\n",
              "    </tr>\n",
              "    <tr>\n",
              "      <th>4072</th>\n",
              "      <td>__label1__</td>\n",
              "      <td>2</td>\n",
              "      <td>N</td>\n",
              "      <td>This desk is a beautiful desk, but poor qualit...</td>\n",
              "    </tr>\n",
              "    <tr>\n",
              "      <th>15538</th>\n",
              "      <td>__label2__</td>\n",
              "      <td>5</td>\n",
              "      <td>Y</td>\n",
              "      <td>This particular pair of Ray-Bans are very styl...</td>\n",
              "    </tr>\n",
              "    <tr>\n",
              "      <th>7949</th>\n",
              "      <td>__label1__</td>\n",
              "      <td>5</td>\n",
              "      <td>N</td>\n",
              "      <td>These pedals attach very easily and stay attac...</td>\n",
              "    </tr>\n",
              "  </tbody>\n",
              "</table>\n",
              "</div>"
            ],
            "text/plain": [
              "            LABEL  ...                                        REVIEW_TEXT\n",
              "11805  __label2__  ...  B+W is the brand you want if you're looking fo...\n",
              "7616   __label1__  ...  Oh my God, really fell in love with the precio...\n",
              "4072   __label1__  ...  This desk is a beautiful desk, but poor qualit...\n",
              "15538  __label2__  ...  This particular pair of Ray-Bans are very styl...\n",
              "7949   __label1__  ...  These pedals attach very easily and stay attac...\n",
              "\n",
              "[5 rows x 4 columns]"
            ]
          },
          "metadata": {},
          "execution_count": 13
        }
      ]
    },
    {
      "cell_type": "code",
      "metadata": {
        "colab": {
          "base_uri": "https://localhost:8080/"
        },
        "id": "9Ad1i0DA6zZB",
        "outputId": "0769d824-324e-4f6e-e29d-e7d231e8ea18"
      },
      "source": [
        "from sklearn import preprocessing \n",
        "\n",
        "# label_encoder object knows how to understand word labels. \n",
        "label_encoder = preprocessing.LabelEncoder() \n",
        "\n",
        "# Encode labels in column 'species'. \n",
        "df['LABEL']= label_encoder.fit_transform(df['LABEL']) \n",
        "\n",
        "df['LABEL'].unique() "
      ],
      "execution_count": 14,
      "outputs": [
        {
          "output_type": "execute_result",
          "data": {
            "text/plain": [
              "array([1, 0])"
            ]
          },
          "metadata": {},
          "execution_count": 14
        }
      ]
    },
    {
      "cell_type": "code",
      "metadata": {
        "colab": {
          "base_uri": "https://localhost:8080/",
          "height": 206
        },
        "id": "CIC85rZd6zZC",
        "outputId": "f4699dca-8eb1-4b0a-8c23-bc151eff4ee3"
      },
      "source": [
        "df.head()"
      ],
      "execution_count": 15,
      "outputs": [
        {
          "output_type": "execute_result",
          "data": {
            "text/html": [
              "<div>\n",
              "<style scoped>\n",
              "    .dataframe tbody tr th:only-of-type {\n",
              "        vertical-align: middle;\n",
              "    }\n",
              "\n",
              "    .dataframe tbody tr th {\n",
              "        vertical-align: top;\n",
              "    }\n",
              "\n",
              "    .dataframe thead th {\n",
              "        text-align: right;\n",
              "    }\n",
              "</style>\n",
              "<table border=\"1\" class=\"dataframe\">\n",
              "  <thead>\n",
              "    <tr style=\"text-align: right;\">\n",
              "      <th></th>\n",
              "      <th>LABEL</th>\n",
              "      <th>RATING</th>\n",
              "      <th>VERIFIED_PURCHASE</th>\n",
              "      <th>REVIEW_TEXT</th>\n",
              "    </tr>\n",
              "  </thead>\n",
              "  <tbody>\n",
              "    <tr>\n",
              "      <th>11805</th>\n",
              "      <td>1</td>\n",
              "      <td>5</td>\n",
              "      <td>Y</td>\n",
              "      <td>B+W is the brand you want if you're looking fo...</td>\n",
              "    </tr>\n",
              "    <tr>\n",
              "      <th>7616</th>\n",
              "      <td>0</td>\n",
              "      <td>5</td>\n",
              "      <td>N</td>\n",
              "      <td>Oh my God, really fell in love with the precio...</td>\n",
              "    </tr>\n",
              "    <tr>\n",
              "      <th>4072</th>\n",
              "      <td>0</td>\n",
              "      <td>2</td>\n",
              "      <td>N</td>\n",
              "      <td>This desk is a beautiful desk, but poor qualit...</td>\n",
              "    </tr>\n",
              "    <tr>\n",
              "      <th>15538</th>\n",
              "      <td>1</td>\n",
              "      <td>5</td>\n",
              "      <td>Y</td>\n",
              "      <td>This particular pair of Ray-Bans are very styl...</td>\n",
              "    </tr>\n",
              "    <tr>\n",
              "      <th>7949</th>\n",
              "      <td>0</td>\n",
              "      <td>5</td>\n",
              "      <td>N</td>\n",
              "      <td>These pedals attach very easily and stay attac...</td>\n",
              "    </tr>\n",
              "  </tbody>\n",
              "</table>\n",
              "</div>"
            ],
            "text/plain": [
              "       LABEL  ...                                        REVIEW_TEXT\n",
              "11805      1  ...  B+W is the brand you want if you're looking fo...\n",
              "7616       0  ...  Oh my God, really fell in love with the precio...\n",
              "4072       0  ...  This desk is a beautiful desk, but poor qualit...\n",
              "15538      1  ...  This particular pair of Ray-Bans are very styl...\n",
              "7949       0  ...  These pedals attach very easily and stay attac...\n",
              "\n",
              "[5 rows x 4 columns]"
            ]
          },
          "metadata": {},
          "execution_count": 15
        }
      ]
    },
    {
      "cell_type": "code",
      "metadata": {
        "colab": {
          "base_uri": "https://localhost:8080/",
          "height": 206
        },
        "id": "6pkoAhZsIi7K",
        "outputId": "d7efa7d6-8b49-432f-950f-fc21b48b98bf"
      },
      "source": [
        "df.head()"
      ],
      "execution_count": 16,
      "outputs": [
        {
          "output_type": "execute_result",
          "data": {
            "text/html": [
              "<div>\n",
              "<style scoped>\n",
              "    .dataframe tbody tr th:only-of-type {\n",
              "        vertical-align: middle;\n",
              "    }\n",
              "\n",
              "    .dataframe tbody tr th {\n",
              "        vertical-align: top;\n",
              "    }\n",
              "\n",
              "    .dataframe thead th {\n",
              "        text-align: right;\n",
              "    }\n",
              "</style>\n",
              "<table border=\"1\" class=\"dataframe\">\n",
              "  <thead>\n",
              "    <tr style=\"text-align: right;\">\n",
              "      <th></th>\n",
              "      <th>LABEL</th>\n",
              "      <th>RATING</th>\n",
              "      <th>VERIFIED_PURCHASE</th>\n",
              "      <th>REVIEW_TEXT</th>\n",
              "    </tr>\n",
              "  </thead>\n",
              "  <tbody>\n",
              "    <tr>\n",
              "      <th>11805</th>\n",
              "      <td>1</td>\n",
              "      <td>5</td>\n",
              "      <td>Y</td>\n",
              "      <td>B+W is the brand you want if you're looking fo...</td>\n",
              "    </tr>\n",
              "    <tr>\n",
              "      <th>7616</th>\n",
              "      <td>0</td>\n",
              "      <td>5</td>\n",
              "      <td>N</td>\n",
              "      <td>Oh my God, really fell in love with the precio...</td>\n",
              "    </tr>\n",
              "    <tr>\n",
              "      <th>4072</th>\n",
              "      <td>0</td>\n",
              "      <td>2</td>\n",
              "      <td>N</td>\n",
              "      <td>This desk is a beautiful desk, but poor qualit...</td>\n",
              "    </tr>\n",
              "    <tr>\n",
              "      <th>15538</th>\n",
              "      <td>1</td>\n",
              "      <td>5</td>\n",
              "      <td>Y</td>\n",
              "      <td>This particular pair of Ray-Bans are very styl...</td>\n",
              "    </tr>\n",
              "    <tr>\n",
              "      <th>7949</th>\n",
              "      <td>0</td>\n",
              "      <td>5</td>\n",
              "      <td>N</td>\n",
              "      <td>These pedals attach very easily and stay attac...</td>\n",
              "    </tr>\n",
              "  </tbody>\n",
              "</table>\n",
              "</div>"
            ],
            "text/plain": [
              "       LABEL  ...                                        REVIEW_TEXT\n",
              "11805      1  ...  B+W is the brand you want if you're looking fo...\n",
              "7616       0  ...  Oh my God, really fell in love with the precio...\n",
              "4072       0  ...  This desk is a beautiful desk, but poor qualit...\n",
              "15538      1  ...  This particular pair of Ray-Bans are very styl...\n",
              "7949       0  ...  These pedals attach very easily and stay attac...\n",
              "\n",
              "[5 rows x 4 columns]"
            ]
          },
          "metadata": {},
          "execution_count": 16
        }
      ]
    },
    {
      "cell_type": "code",
      "metadata": {
        "colab": {
          "base_uri": "https://localhost:8080/"
        },
        "id": "-dstLTk0YYJ9",
        "outputId": "60f8f42b-19b8-4dbd-e088-b5ab01c882e7"
      },
      "source": [
        "from sklearn import preprocessing \n",
        "\n",
        "# label_encoder object knows how to understand word labels. \n",
        "label_encoder = preprocessing.LabelEncoder() \n",
        "\n",
        "# Encode labels in column 'species'. \n",
        "df['VERIFIED_PURCHASE']= label_encoder.fit_transform(df['VERIFIED_PURCHASE']) \n",
        "\n",
        "df['VERIFIED_PURCHASE'].unique() "
      ],
      "execution_count": 17,
      "outputs": [
        {
          "output_type": "execute_result",
          "data": {
            "text/plain": [
              "array([1, 0])"
            ]
          },
          "metadata": {},
          "execution_count": 17
        }
      ]
    },
    {
      "cell_type": "code",
      "metadata": {
        "colab": {
          "base_uri": "https://localhost:8080/",
          "height": 424
        },
        "id": "FkIYvy74Y5dp",
        "outputId": "e9b7c448-3dbd-4658-be22-81a8a81004ba"
      },
      "source": [
        "df"
      ],
      "execution_count": 18,
      "outputs": [
        {
          "output_type": "execute_result",
          "data": {
            "text/html": [
              "<div>\n",
              "<style scoped>\n",
              "    .dataframe tbody tr th:only-of-type {\n",
              "        vertical-align: middle;\n",
              "    }\n",
              "\n",
              "    .dataframe tbody tr th {\n",
              "        vertical-align: top;\n",
              "    }\n",
              "\n",
              "    .dataframe thead th {\n",
              "        text-align: right;\n",
              "    }\n",
              "</style>\n",
              "<table border=\"1\" class=\"dataframe\">\n",
              "  <thead>\n",
              "    <tr style=\"text-align: right;\">\n",
              "      <th></th>\n",
              "      <th>LABEL</th>\n",
              "      <th>RATING</th>\n",
              "      <th>VERIFIED_PURCHASE</th>\n",
              "      <th>REVIEW_TEXT</th>\n",
              "    </tr>\n",
              "  </thead>\n",
              "  <tbody>\n",
              "    <tr>\n",
              "      <th>11805</th>\n",
              "      <td>1</td>\n",
              "      <td>5</td>\n",
              "      <td>1</td>\n",
              "      <td>B+W is the brand you want if you're looking fo...</td>\n",
              "    </tr>\n",
              "    <tr>\n",
              "      <th>7616</th>\n",
              "      <td>0</td>\n",
              "      <td>5</td>\n",
              "      <td>0</td>\n",
              "      <td>Oh my God, really fell in love with the precio...</td>\n",
              "    </tr>\n",
              "    <tr>\n",
              "      <th>4072</th>\n",
              "      <td>0</td>\n",
              "      <td>2</td>\n",
              "      <td>0</td>\n",
              "      <td>This desk is a beautiful desk, but poor qualit...</td>\n",
              "    </tr>\n",
              "    <tr>\n",
              "      <th>15538</th>\n",
              "      <td>1</td>\n",
              "      <td>5</td>\n",
              "      <td>1</td>\n",
              "      <td>This particular pair of Ray-Bans are very styl...</td>\n",
              "    </tr>\n",
              "    <tr>\n",
              "      <th>7949</th>\n",
              "      <td>0</td>\n",
              "      <td>5</td>\n",
              "      <td>0</td>\n",
              "      <td>These pedals attach very easily and stay attac...</td>\n",
              "    </tr>\n",
              "    <tr>\n",
              "      <th>...</th>\n",
              "      <td>...</td>\n",
              "      <td>...</td>\n",
              "      <td>...</td>\n",
              "      <td>...</td>\n",
              "    </tr>\n",
              "    <tr>\n",
              "      <th>1492</th>\n",
              "      <td>0</td>\n",
              "      <td>4</td>\n",
              "      <td>0</td>\n",
              "      <td>I'm not sure what everyone is all crying about...</td>\n",
              "    </tr>\n",
              "    <tr>\n",
              "      <th>11566</th>\n",
              "      <td>1</td>\n",
              "      <td>3</td>\n",
              "      <td>1</td>\n",
              "      <td>I have two pad trained Maltese. They use these...</td>\n",
              "    </tr>\n",
              "    <tr>\n",
              "      <th>17723</th>\n",
              "      <td>1</td>\n",
              "      <td>2</td>\n",
              "      <td>1</td>\n",
              "      <td>These are a regular in ear headset that are ov...</td>\n",
              "    </tr>\n",
              "    <tr>\n",
              "      <th>9772</th>\n",
              "      <td>0</td>\n",
              "      <td>4</td>\n",
              "      <td>0</td>\n",
              "      <td>Unlike some other products out there that leav...</td>\n",
              "    </tr>\n",
              "    <tr>\n",
              "      <th>17638</th>\n",
              "      <td>1</td>\n",
              "      <td>5</td>\n",
              "      <td>1</td>\n",
              "      <td>We have one and when our daughter came to visi...</td>\n",
              "    </tr>\n",
              "  </tbody>\n",
              "</table>\n",
              "<p>21000 rows × 4 columns</p>\n",
              "</div>"
            ],
            "text/plain": [
              "       LABEL  ...                                        REVIEW_TEXT\n",
              "11805      1  ...  B+W is the brand you want if you're looking fo...\n",
              "7616       0  ...  Oh my God, really fell in love with the precio...\n",
              "4072       0  ...  This desk is a beautiful desk, but poor qualit...\n",
              "15538      1  ...  This particular pair of Ray-Bans are very styl...\n",
              "7949       0  ...  These pedals attach very easily and stay attac...\n",
              "...      ...  ...                                                ...\n",
              "1492       0  ...  I'm not sure what everyone is all crying about...\n",
              "11566      1  ...  I have two pad trained Maltese. They use these...\n",
              "17723      1  ...  These are a regular in ear headset that are ov...\n",
              "9772       0  ...  Unlike some other products out there that leav...\n",
              "17638      1  ...  We have one and when our daughter came to visi...\n",
              "\n",
              "[21000 rows x 4 columns]"
            ]
          },
          "metadata": {},
          "execution_count": 18
        }
      ]
    },
    {
      "cell_type": "code",
      "metadata": {
        "colab": {
          "base_uri": "https://localhost:8080/",
          "height": 175
        },
        "id": "Y8vsjZKm6zZF",
        "outputId": "5c3af863-72a9-47e7-a38a-211d5eb454ae"
      },
      "source": [
        "#dataset description #truthful=1 deceptive=0\n",
        "df.groupby('LABEL').describe()"
      ],
      "execution_count": 19,
      "outputs": [
        {
          "output_type": "execute_result",
          "data": {
            "text/html": [
              "<div>\n",
              "<style scoped>\n",
              "    .dataframe tbody tr th:only-of-type {\n",
              "        vertical-align: middle;\n",
              "    }\n",
              "\n",
              "    .dataframe tbody tr th {\n",
              "        vertical-align: top;\n",
              "    }\n",
              "\n",
              "    .dataframe thead tr th {\n",
              "        text-align: left;\n",
              "    }\n",
              "\n",
              "    .dataframe thead tr:last-of-type th {\n",
              "        text-align: right;\n",
              "    }\n",
              "</style>\n",
              "<table border=\"1\" class=\"dataframe\">\n",
              "  <thead>\n",
              "    <tr>\n",
              "      <th></th>\n",
              "      <th colspan=\"8\" halign=\"left\">RATING</th>\n",
              "      <th colspan=\"8\" halign=\"left\">VERIFIED_PURCHASE</th>\n",
              "    </tr>\n",
              "    <tr>\n",
              "      <th></th>\n",
              "      <th>count</th>\n",
              "      <th>mean</th>\n",
              "      <th>std</th>\n",
              "      <th>min</th>\n",
              "      <th>25%</th>\n",
              "      <th>50%</th>\n",
              "      <th>75%</th>\n",
              "      <th>max</th>\n",
              "      <th>count</th>\n",
              "      <th>mean</th>\n",
              "      <th>std</th>\n",
              "      <th>min</th>\n",
              "      <th>25%</th>\n",
              "      <th>50%</th>\n",
              "      <th>75%</th>\n",
              "      <th>max</th>\n",
              "    </tr>\n",
              "    <tr>\n",
              "      <th>LABEL</th>\n",
              "      <th></th>\n",
              "      <th></th>\n",
              "      <th></th>\n",
              "      <th></th>\n",
              "      <th></th>\n",
              "      <th></th>\n",
              "      <th></th>\n",
              "      <th></th>\n",
              "      <th></th>\n",
              "      <th></th>\n",
              "      <th></th>\n",
              "      <th></th>\n",
              "      <th></th>\n",
              "      <th></th>\n",
              "      <th></th>\n",
              "      <th></th>\n",
              "    </tr>\n",
              "  </thead>\n",
              "  <tbody>\n",
              "    <tr>\n",
              "      <th>0</th>\n",
              "      <td>10500.0</td>\n",
              "      <td>4.115429</td>\n",
              "      <td>1.285663</td>\n",
              "      <td>1.0</td>\n",
              "      <td>4.0</td>\n",
              "      <td>5.0</td>\n",
              "      <td>5.0</td>\n",
              "      <td>5.0</td>\n",
              "      <td>10500.0</td>\n",
              "      <td>0.274000</td>\n",
              "      <td>0.446030</td>\n",
              "      <td>0.0</td>\n",
              "      <td>0.0</td>\n",
              "      <td>0.0</td>\n",
              "      <td>1.0</td>\n",
              "      <td>1.0</td>\n",
              "    </tr>\n",
              "    <tr>\n",
              "      <th>1</th>\n",
              "      <td>10500.0</td>\n",
              "      <td>4.140476</td>\n",
              "      <td>1.270898</td>\n",
              "      <td>1.0</td>\n",
              "      <td>4.0</td>\n",
              "      <td>5.0</td>\n",
              "      <td>5.0</td>\n",
              "      <td>5.0</td>\n",
              "      <td>10500.0</td>\n",
              "      <td>0.840095</td>\n",
              "      <td>0.366535</td>\n",
              "      <td>0.0</td>\n",
              "      <td>1.0</td>\n",
              "      <td>1.0</td>\n",
              "      <td>1.0</td>\n",
              "      <td>1.0</td>\n",
              "    </tr>\n",
              "  </tbody>\n",
              "</table>\n",
              "</div>"
            ],
            "text/plain": [
              "        RATING                                ... VERIFIED_PURCHASE                    \n",
              "         count      mean       std  min  25%  ...               min  25%  50%  75%  max\n",
              "LABEL                                         ...                                      \n",
              "0      10500.0  4.115429  1.285663  1.0  4.0  ...               0.0  0.0  0.0  1.0  1.0\n",
              "1      10500.0  4.140476  1.270898  1.0  4.0  ...               0.0  1.0  1.0  1.0  1.0\n",
              "\n",
              "[2 rows x 16 columns]"
            ]
          },
          "metadata": {},
          "execution_count": 19
        }
      ]
    },
    {
      "cell_type": "code",
      "metadata": {
        "id": "gF9VzF6x6zZH"
      },
      "source": [
        "def clean_text(text):\n",
        "    \n",
        "    ## Remove puncuation\n",
        "    text = text.translate(string.punctuation)\n",
        "    \n",
        "    ## Convert words to lower case and split them\n",
        "    text = text.lower().split()\n",
        "    \n",
        "    ## Remove stop words\n",
        "    stops = set(stopwords.words(\"english\"))\n",
        "    text = [w for w in text if not w in stops and len(w) >= 3]\n",
        "    \n",
        "    text = \" \".join(text)\n",
        "\n",
        "    # Clean the text\n",
        "    text = re.sub(r\"[^A-Za-z0-9^,!.\\/'+-=]\", \" \", text)\n",
        "    text = re.sub(r\"what's\", \"what is \", text)\n",
        "    text = re.sub(r\"\\'s\", \" \", text)\n",
        "    text = re.sub(r\"\\'ve\", \" have \", text)\n",
        "    text = re.sub(r\"n't\", \" not \", text)\n",
        "    text = re.sub(r\"i'm\", \"i am \", text)\n",
        "    text = re.sub(r\"\\'re\", \" are \", text)\n",
        "    text = re.sub(r\"\\'d\", \" would \", text)\n",
        "    text = re.sub(r\"\\'ll\", \" will \", text)\n",
        "    text = re.sub(r\",\", \" \", text)\n",
        "    text = re.sub(r\"\\.\", \" \", text)\n",
        "    text = re.sub(r\"!\", \" ! \", text)\n",
        "    text = re.sub(r\"\\/\", \" \", text)\n",
        "    text = re.sub(r\"\\^\", \" ^ \", text)\n",
        "    text = re.sub(r\"\\+\", \" + \", text)\n",
        "    text = re.sub(r\"\\-\", \" - \", text)\n",
        "    text = re.sub(r\"\\=\", \" = \", text)\n",
        "    text = re.sub(r\"'\", \" \", text)\n",
        "    text = re.sub(r\"(\\d+)(k)\", r\"\\g<1>000\", text)\n",
        "    text = re.sub(r\":\", \" : \", text)\n",
        "    text = re.sub(r\" e g \", \" eg \", text)\n",
        "    text = re.sub(r\" b g \", \" bg \", text)\n",
        "    text = re.sub(r\" u s \", \" american \", text)\n",
        "    text = re.sub(r\"\\0s\", \"0\", text)\n",
        "    text = re.sub(r\" 9 11 \", \"911\", text)\n",
        "    text = re.sub(r\"e - mail\", \"email\", text)\n",
        "    text = re.sub(r\"j k\", \"jk\", text)\n",
        "    text = re.sub(r\"\\s{2,}\", \" \", text)\n",
        "    \n",
        "    text = text.split()\n",
        "    stemmer = SnowballStemmer('english')\n",
        "    stemmed_words = [stemmer.stem(word) for word in text]\n",
        "    text = \" \".join(stemmed_words)\n",
        "\n",
        "    return text"
      ],
      "execution_count": 20,
      "outputs": []
    },
    {
      "cell_type": "code",
      "metadata": {
        "id": "HT_kXGl-6zZI"
      },
      "source": [
        "# Some preprocesssing that will be common to all the text classification methods\n",
        "\n",
        "puncts = [',', '.', '\"', ':', ')', '(', '-', '!', '?', '|', ';', \"'\", '$', '&', '/', '[', ']', '>', '%', '=', '#', '*', '+', '\\\\', '•',  '~', '@', '£', \n",
        " '·', '_', '{', '}', '©', '^', '®', '`',  '<', '→', '°', '€', '™', '›',  '♥', '←', '×', '§', '″', '′', 'Â', '█', '½', 'à', '…', \n",
        " '“', '★', '”', '–', '●', 'â', '►', '−', '¢', '²', '¬', '░', '¶', '↑', '±', '¿', '▾', '═', '¦', '║', '―', '¥', '▓', '—', '‹', '─', \n",
        " '▒', '：', '¼', '⊕', '▼', '▪', '†', '■', '’', '▀', '¨', '▄', '♫', '☆', 'é', '¯', '♦', '¤', '▲', 'è', '¸', '¾', 'Ã', '⋅', '‘', '∞', \n",
        " '∙', '）', '↓', '、', '│', '（', '»', '，', '♪', '╩', '╚', '³', '・', '╦', '╣', '╔', '╗', '▬', '❤', 'ï', 'Ø', '¹', '≤', '‡', '√', ]\n",
        "\n",
        "def clean_char(x):\n",
        "    x = str(x)\n",
        "    for punct in puncts:\n",
        "        if punct in x:\n",
        "            x = x.replace(punct, f' {punct} ')\n",
        "    return x"
      ],
      "execution_count": 21,
      "outputs": []
    },
    {
      "cell_type": "code",
      "metadata": {
        "id": "nfGtXHT_6zZK"
      },
      "source": [
        "def clean_numbers(x):\n",
        "    if bool(re.search(r'\\d', x)):\n",
        "        x = re.sub('[0-9]{5,}', '#####', x)\n",
        "        x = re.sub('[0-9]{4}', '####', x)\n",
        "        x = re.sub('[0-9]{3}', '###', x)\n",
        "        x = re.sub('[0-9]{2}', '##', x)\n",
        "    return x"
      ],
      "execution_count": 22,
      "outputs": []
    },
    {
      "cell_type": "code",
      "metadata": {
        "id": "BaTZ_fUD6zZL"
      },
      "source": [
        "df['REVIEW_TEXT'] = df['REVIEW_TEXT'].map(lambda a: clean_numbers(a))"
      ],
      "execution_count": 23,
      "outputs": []
    },
    {
      "cell_type": "code",
      "metadata": {
        "id": "HsI-GHlN6zZM"
      },
      "source": [
        "df['REVIEW_TEXT'] = df['REVIEW_TEXT'].map(lambda a: clean_char(a))"
      ],
      "execution_count": 24,
      "outputs": []
    },
    {
      "cell_type": "code",
      "metadata": {
        "colab": {
          "base_uri": "https://localhost:8080/"
        },
        "id": "EgttuKFlE-_Q",
        "outputId": "bd14c8c1-fd7e-4126-e25f-4c60d9ecb802"
      },
      "source": [
        "import nltk\n",
        "nltk.download('stopwords')\n",
        "from nltk.corpus import stopwords\n",
        "STOPWORDS = set(stopwords.words('english'))"
      ],
      "execution_count": 25,
      "outputs": [
        {
          "output_type": "stream",
          "name": "stdout",
          "text": [
            "[nltk_data] Downloading package stopwords to /root/nltk_data...\n",
            "[nltk_data]   Unzipping corpora/stopwords.zip.\n"
          ]
        }
      ]
    },
    {
      "cell_type": "code",
      "metadata": {
        "id": "udH8lGSC6zZM"
      },
      "source": [
        "df['REVIEW_TEXT'] = df['REVIEW_TEXT'].map(lambda a: clean_text(a))"
      ],
      "execution_count": 26,
      "outputs": []
    },
    {
      "cell_type": "code",
      "metadata": {
        "colab": {
          "base_uri": "https://localhost:8080/"
        },
        "id": "kNy2iMIm6zZN",
        "outputId": "b85a183d-56e4-4a50-e5eb-a2bd4ddcc645"
      },
      "source": [
        "df['REVIEW_TEXT']"
      ],
      "execution_count": 27,
      "outputs": [
        {
          "output_type": "execute_result",
          "data": {
            "text/plain": [
              "11805    brand want look superior optic make zero sens ...\n",
              "7616     god realli fell love precious littl bib lol ba...\n",
              "4072     desk beauti desk poor qualiti drawer place key...\n",
              "15538    particular pair ray ban stylish comfort great ...\n",
              "7949     pedal attach easili stay attach like lot great...\n",
              "                               ...                        \n",
              "1492     sure everyon cri bib look exact like pic seem ...\n",
              "11566    two pad train maltes use well grassi indoor po...\n",
              "17723    regular ear headset price sound basic boarder ...\n",
              "9772     unlik product leav chisel duller start save fr...\n",
              "17638       one daughter came visit use love gift use time\n",
              "Name: REVIEW_TEXT, Length: 21000, dtype: object"
            ]
          },
          "metadata": {},
          "execution_count": 27
        }
      ]
    },
    {
      "cell_type": "code",
      "metadata": {
        "id": "Y_R2LyD3IXpp"
      },
      "source": [
        "def get_sentiment(REVIEW_TEXT):\n",
        "  blob=TextBlob(REVIEW_TEXT)\n",
        "  sentiment=blob.sentiment.polarity\n",
        "  if sentiment>0:\n",
        "    result=\"Positive\"\n",
        "  elif sentiment<0:\n",
        "    result=\"Negative\"\n",
        "  else:\n",
        "    result=\"Neutral\"\n",
        "  return result"
      ],
      "execution_count": 28,
      "outputs": []
    },
    {
      "cell_type": "code",
      "metadata": {
        "id": "gB2dKPZTLWqp"
      },
      "source": [
        "df['Emotion']=df['REVIEW_TEXT'].apply(get_sentiment)"
      ],
      "execution_count": 29,
      "outputs": []
    },
    {
      "cell_type": "code",
      "metadata": {
        "colab": {
          "base_uri": "https://localhost:8080/"
        },
        "id": "N3zNYGqwLYWf",
        "outputId": "0e4ea2d0-35a6-4dbd-def2-b2161b8b4a85"
      },
      "source": [
        "df['Emotion']"
      ],
      "execution_count": 30,
      "outputs": [
        {
          "output_type": "execute_result",
          "data": {
            "text/plain": [
              "11805    Positive\n",
              "7616     Positive\n",
              "4072     Negative\n",
              "15538    Positive\n",
              "7949     Positive\n",
              "           ...   \n",
              "1492     Positive\n",
              "11566    Positive\n",
              "17723    Positive\n",
              "9772      Neutral\n",
              "17638    Positive\n",
              "Name: Emotion, Length: 21000, dtype: object"
            ]
          },
          "metadata": {},
          "execution_count": 30
        }
      ]
    },
    {
      "cell_type": "code",
      "metadata": {
        "colab": {
          "base_uri": "https://localhost:8080/",
          "height": 424
        },
        "id": "O9w5j1Y5LKiD",
        "outputId": "3308120b-c3fe-44b4-97db-cf64e8d0c971"
      },
      "source": [
        "df"
      ],
      "execution_count": 31,
      "outputs": [
        {
          "output_type": "execute_result",
          "data": {
            "text/html": [
              "<div>\n",
              "<style scoped>\n",
              "    .dataframe tbody tr th:only-of-type {\n",
              "        vertical-align: middle;\n",
              "    }\n",
              "\n",
              "    .dataframe tbody tr th {\n",
              "        vertical-align: top;\n",
              "    }\n",
              "\n",
              "    .dataframe thead th {\n",
              "        text-align: right;\n",
              "    }\n",
              "</style>\n",
              "<table border=\"1\" class=\"dataframe\">\n",
              "  <thead>\n",
              "    <tr style=\"text-align: right;\">\n",
              "      <th></th>\n",
              "      <th>LABEL</th>\n",
              "      <th>RATING</th>\n",
              "      <th>VERIFIED_PURCHASE</th>\n",
              "      <th>REVIEW_TEXT</th>\n",
              "      <th>Emotion</th>\n",
              "    </tr>\n",
              "  </thead>\n",
              "  <tbody>\n",
              "    <tr>\n",
              "      <th>11805</th>\n",
              "      <td>1</td>\n",
              "      <td>5</td>\n",
              "      <td>1</td>\n",
              "      <td>brand want look superior optic make zero sens ...</td>\n",
              "      <td>Positive</td>\n",
              "    </tr>\n",
              "    <tr>\n",
              "      <th>7616</th>\n",
              "      <td>0</td>\n",
              "      <td>5</td>\n",
              "      <td>0</td>\n",
              "      <td>god realli fell love precious littl bib lol ba...</td>\n",
              "      <td>Positive</td>\n",
              "    </tr>\n",
              "    <tr>\n",
              "      <th>4072</th>\n",
              "      <td>0</td>\n",
              "      <td>2</td>\n",
              "      <td>0</td>\n",
              "      <td>desk beauti desk poor qualiti drawer place key...</td>\n",
              "      <td>Negative</td>\n",
              "    </tr>\n",
              "    <tr>\n",
              "      <th>15538</th>\n",
              "      <td>1</td>\n",
              "      <td>5</td>\n",
              "      <td>1</td>\n",
              "      <td>particular pair ray ban stylish comfort great ...</td>\n",
              "      <td>Positive</td>\n",
              "    </tr>\n",
              "    <tr>\n",
              "      <th>7949</th>\n",
              "      <td>0</td>\n",
              "      <td>5</td>\n",
              "      <td>0</td>\n",
              "      <td>pedal attach easili stay attach like lot great...</td>\n",
              "      <td>Positive</td>\n",
              "    </tr>\n",
              "    <tr>\n",
              "      <th>...</th>\n",
              "      <td>...</td>\n",
              "      <td>...</td>\n",
              "      <td>...</td>\n",
              "      <td>...</td>\n",
              "      <td>...</td>\n",
              "    </tr>\n",
              "    <tr>\n",
              "      <th>1492</th>\n",
              "      <td>0</td>\n",
              "      <td>4</td>\n",
              "      <td>0</td>\n",
              "      <td>sure everyon cri bib look exact like pic seem ...</td>\n",
              "      <td>Positive</td>\n",
              "    </tr>\n",
              "    <tr>\n",
              "      <th>11566</th>\n",
              "      <td>1</td>\n",
              "      <td>3</td>\n",
              "      <td>1</td>\n",
              "      <td>two pad train maltes use well grassi indoor po...</td>\n",
              "      <td>Positive</td>\n",
              "    </tr>\n",
              "    <tr>\n",
              "      <th>17723</th>\n",
              "      <td>1</td>\n",
              "      <td>2</td>\n",
              "      <td>1</td>\n",
              "      <td>regular ear headset price sound basic boarder ...</td>\n",
              "      <td>Positive</td>\n",
              "    </tr>\n",
              "    <tr>\n",
              "      <th>9772</th>\n",
              "      <td>0</td>\n",
              "      <td>4</td>\n",
              "      <td>0</td>\n",
              "      <td>unlik product leav chisel duller start save fr...</td>\n",
              "      <td>Neutral</td>\n",
              "    </tr>\n",
              "    <tr>\n",
              "      <th>17638</th>\n",
              "      <td>1</td>\n",
              "      <td>5</td>\n",
              "      <td>1</td>\n",
              "      <td>one daughter came visit use love gift use time</td>\n",
              "      <td>Positive</td>\n",
              "    </tr>\n",
              "  </tbody>\n",
              "</table>\n",
              "<p>21000 rows × 5 columns</p>\n",
              "</div>"
            ],
            "text/plain": [
              "       LABEL  ...   Emotion\n",
              "11805      1  ...  Positive\n",
              "7616       0  ...  Positive\n",
              "4072       0  ...  Negative\n",
              "15538      1  ...  Positive\n",
              "7949       0  ...  Positive\n",
              "...      ...  ...       ...\n",
              "1492       0  ...  Positive\n",
              "11566      1  ...  Positive\n",
              "17723      1  ...  Positive\n",
              "9772       0  ...   Neutral\n",
              "17638      1  ...  Positive\n",
              "\n",
              "[21000 rows x 5 columns]"
            ]
          },
          "metadata": {},
          "execution_count": 31
        }
      ]
    },
    {
      "cell_type": "code",
      "metadata": {
        "colab": {
          "base_uri": "https://localhost:8080/",
          "height": 300
        },
        "id": "qnPeuCMS6zZO",
        "outputId": "b15b2f74-a3ad-446f-bcd2-20aef00bd868"
      },
      "source": [
        "df.describe()"
      ],
      "execution_count": 32,
      "outputs": [
        {
          "output_type": "execute_result",
          "data": {
            "text/html": [
              "<div>\n",
              "<style scoped>\n",
              "    .dataframe tbody tr th:only-of-type {\n",
              "        vertical-align: middle;\n",
              "    }\n",
              "\n",
              "    .dataframe tbody tr th {\n",
              "        vertical-align: top;\n",
              "    }\n",
              "\n",
              "    .dataframe thead th {\n",
              "        text-align: right;\n",
              "    }\n",
              "</style>\n",
              "<table border=\"1\" class=\"dataframe\">\n",
              "  <thead>\n",
              "    <tr style=\"text-align: right;\">\n",
              "      <th></th>\n",
              "      <th>LABEL</th>\n",
              "      <th>RATING</th>\n",
              "      <th>VERIFIED_PURCHASE</th>\n",
              "    </tr>\n",
              "  </thead>\n",
              "  <tbody>\n",
              "    <tr>\n",
              "      <th>count</th>\n",
              "      <td>21000.000000</td>\n",
              "      <td>21000.000000</td>\n",
              "      <td>21000.000000</td>\n",
              "    </tr>\n",
              "    <tr>\n",
              "      <th>mean</th>\n",
              "      <td>0.500000</td>\n",
              "      <td>4.127952</td>\n",
              "      <td>0.557048</td>\n",
              "    </tr>\n",
              "    <tr>\n",
              "      <th>std</th>\n",
              "      <td>0.500012</td>\n",
              "      <td>1.278333</td>\n",
              "      <td>0.496747</td>\n",
              "    </tr>\n",
              "    <tr>\n",
              "      <th>min</th>\n",
              "      <td>0.000000</td>\n",
              "      <td>1.000000</td>\n",
              "      <td>0.000000</td>\n",
              "    </tr>\n",
              "    <tr>\n",
              "      <th>25%</th>\n",
              "      <td>0.000000</td>\n",
              "      <td>4.000000</td>\n",
              "      <td>0.000000</td>\n",
              "    </tr>\n",
              "    <tr>\n",
              "      <th>50%</th>\n",
              "      <td>0.500000</td>\n",
              "      <td>5.000000</td>\n",
              "      <td>1.000000</td>\n",
              "    </tr>\n",
              "    <tr>\n",
              "      <th>75%</th>\n",
              "      <td>1.000000</td>\n",
              "      <td>5.000000</td>\n",
              "      <td>1.000000</td>\n",
              "    </tr>\n",
              "    <tr>\n",
              "      <th>max</th>\n",
              "      <td>1.000000</td>\n",
              "      <td>5.000000</td>\n",
              "      <td>1.000000</td>\n",
              "    </tr>\n",
              "  </tbody>\n",
              "</table>\n",
              "</div>"
            ],
            "text/plain": [
              "              LABEL        RATING  VERIFIED_PURCHASE\n",
              "count  21000.000000  21000.000000       21000.000000\n",
              "mean       0.500000      4.127952           0.557048\n",
              "std        0.500012      1.278333           0.496747\n",
              "min        0.000000      1.000000           0.000000\n",
              "25%        0.000000      4.000000           0.000000\n",
              "50%        0.500000      5.000000           1.000000\n",
              "75%        1.000000      5.000000           1.000000\n",
              "max        1.000000      5.000000           1.000000"
            ]
          },
          "metadata": {},
          "execution_count": 32
        }
      ]
    },
    {
      "cell_type": "code",
      "metadata": {
        "colab": {
          "base_uri": "https://localhost:8080/"
        },
        "id": "dQp4A0QSNDhu",
        "outputId": "dcf7b70c-2adc-4d58-9592-ac576f9b160a"
      },
      "source": [
        "# label_encoder object knows how to understand word labels. \n",
        "label_encoder = preprocessing.LabelEncoder() \n",
        "\n",
        "# Encode labels in column 'species'. \n",
        "df['Emotion']= label_encoder.fit_transform(df['Emotion']) \n",
        "\n",
        "df['Emotion'].unique() "
      ],
      "execution_count": 33,
      "outputs": [
        {
          "output_type": "execute_result",
          "data": {
            "text/plain": [
              "array([2, 0, 1])"
            ]
          },
          "metadata": {},
          "execution_count": 33
        }
      ]
    },
    {
      "cell_type": "code",
      "metadata": {
        "colab": {
          "base_uri": "https://localhost:8080/"
        },
        "id": "L81Qbd-16zZP",
        "outputId": "e946cdf8-0436-4cd7-bc43-e860b17a2e7b"
      },
      "source": [
        "df.info()"
      ],
      "execution_count": 34,
      "outputs": [
        {
          "output_type": "stream",
          "name": "stdout",
          "text": [
            "<class 'pandas.core.frame.DataFrame'>\n",
            "Int64Index: 21000 entries, 11805 to 17638\n",
            "Data columns (total 5 columns):\n",
            " #   Column             Non-Null Count  Dtype \n",
            "---  ------             --------------  ----- \n",
            " 0   LABEL              21000 non-null  int64 \n",
            " 1   RATING             21000 non-null  int64 \n",
            " 2   VERIFIED_PURCHASE  21000 non-null  int64 \n",
            " 3   REVIEW_TEXT        21000 non-null  object\n",
            " 4   Emotion            21000 non-null  int64 \n",
            "dtypes: int64(4), object(1)\n",
            "memory usage: 984.4+ KB\n"
          ]
        }
      ]
    },
    {
      "cell_type": "code",
      "metadata": {
        "id": "ihth2oWI6zZQ"
      },
      "source": [
        "# x = df['text']\n",
        "# y = df['deceptive']"
      ],
      "execution_count": 35,
      "outputs": []
    },
    {
      "cell_type": "code",
      "metadata": {
        "id": "L71EhAnS6zZQ"
      },
      "source": [
        "from sklearn.model_selection import train_test_split\n",
        "from sklearn.feature_extraction.text import CountVectorizer, TfidfVectorizer\n",
        "from sklearn.metrics import accuracy_score, confusion_matrix"
      ],
      "execution_count": 36,
      "outputs": []
    },
    {
      "cell_type": "code",
      "metadata": {
        "colab": {
          "base_uri": "https://localhost:8080/"
        },
        "id": "D4Cmlj4f6zZR",
        "outputId": "6de59597-05d4-44ba-8ab0-6a1b79b94faf"
      },
      "source": [
        "from sklearn.model_selection import train_test_split\n",
        "#X_train, X_test, y_train, y_test = train_test_split(df[['Emotion']], df['LABEL'], random_state=5)\n",
        "#X_train, X_test, y_train, y_test = train_test_split(df[['Emotion','RATING']], df['LABEL'], random_state=5)\n",
        "X_train, X_test, y_train, y_test = train_test_split(df[['Emotion','RATING','VERIFIED_PURCHASE']], df['LABEL'], random_state=5)\n",
        "#X_train, X_test, y_train, y_test = train_test_split(df[['RATING','VERIFIED_PURCHASE']], df['LABEL'], random_state=5)\n",
        "#X_train, X_test, y_train, y_test = train_test_split(df[['RATING']], df['LABEL'], random_state=5)\n",
        "#X_train, X_test, y_train, y_test = train_test_split(df[['VERIFIED_PURCHASE']], df['LABEL'], random_state=5)\n",
        "print('Number of rows in the total set: {}'.format(df.shape[0]))\n",
        "print('Number of rows in the training set: {}'.format(X_train.shape[0]))\n",
        "print('Number of rows in the test set: {}'.format(X_test.shape[0]))"
      ],
      "execution_count": 37,
      "outputs": [
        {
          "output_type": "stream",
          "name": "stdout",
          "text": [
            "Number of rows in the total set: 21000\n",
            "Number of rows in the training set: 15750\n",
            "Number of rows in the test set: 5250\n"
          ]
        }
      ]
    },
    {
      "cell_type": "code",
      "metadata": {
        "id": "gKCrAVkpe3mF"
      },
      "source": [
        ""
      ],
      "execution_count": 37,
      "outputs": []
    },
    {
      "cell_type": "code",
      "metadata": {
        "colab": {
          "base_uri": "https://localhost:8080/",
          "height": 424
        },
        "id": "18K2FOwqPKwP",
        "outputId": "48be6224-6f32-46f3-9438-a6160012df65"
      },
      "source": [
        "X_train"
      ],
      "execution_count": 38,
      "outputs": [
        {
          "output_type": "execute_result",
          "data": {
            "text/html": [
              "<div>\n",
              "<style scoped>\n",
              "    .dataframe tbody tr th:only-of-type {\n",
              "        vertical-align: middle;\n",
              "    }\n",
              "\n",
              "    .dataframe tbody tr th {\n",
              "        vertical-align: top;\n",
              "    }\n",
              "\n",
              "    .dataframe thead th {\n",
              "        text-align: right;\n",
              "    }\n",
              "</style>\n",
              "<table border=\"1\" class=\"dataframe\">\n",
              "  <thead>\n",
              "    <tr style=\"text-align: right;\">\n",
              "      <th></th>\n",
              "      <th>Emotion</th>\n",
              "      <th>RATING</th>\n",
              "      <th>VERIFIED_PURCHASE</th>\n",
              "    </tr>\n",
              "  </thead>\n",
              "  <tbody>\n",
              "    <tr>\n",
              "      <th>1474</th>\n",
              "      <td>1</td>\n",
              "      <td>4</td>\n",
              "      <td>0</td>\n",
              "    </tr>\n",
              "    <tr>\n",
              "      <th>14980</th>\n",
              "      <td>2</td>\n",
              "      <td>4</td>\n",
              "      <td>1</td>\n",
              "    </tr>\n",
              "    <tr>\n",
              "      <th>13812</th>\n",
              "      <td>2</td>\n",
              "      <td>5</td>\n",
              "      <td>1</td>\n",
              "    </tr>\n",
              "    <tr>\n",
              "      <th>17468</th>\n",
              "      <td>2</td>\n",
              "      <td>5</td>\n",
              "      <td>1</td>\n",
              "    </tr>\n",
              "    <tr>\n",
              "      <th>2903</th>\n",
              "      <td>1</td>\n",
              "      <td>4</td>\n",
              "      <td>0</td>\n",
              "    </tr>\n",
              "    <tr>\n",
              "      <th>...</th>\n",
              "      <td>...</td>\n",
              "      <td>...</td>\n",
              "      <td>...</td>\n",
              "    </tr>\n",
              "    <tr>\n",
              "      <th>17798</th>\n",
              "      <td>2</td>\n",
              "      <td>5</td>\n",
              "      <td>1</td>\n",
              "    </tr>\n",
              "    <tr>\n",
              "      <th>7123</th>\n",
              "      <td>2</td>\n",
              "      <td>5</td>\n",
              "      <td>0</td>\n",
              "    </tr>\n",
              "    <tr>\n",
              "      <th>671</th>\n",
              "      <td>0</td>\n",
              "      <td>1</td>\n",
              "      <td>0</td>\n",
              "    </tr>\n",
              "    <tr>\n",
              "      <th>5606</th>\n",
              "      <td>1</td>\n",
              "      <td>5</td>\n",
              "      <td>0</td>\n",
              "    </tr>\n",
              "    <tr>\n",
              "      <th>5992</th>\n",
              "      <td>2</td>\n",
              "      <td>5</td>\n",
              "      <td>0</td>\n",
              "    </tr>\n",
              "  </tbody>\n",
              "</table>\n",
              "<p>15750 rows × 3 columns</p>\n",
              "</div>"
            ],
            "text/plain": [
              "       Emotion  RATING  VERIFIED_PURCHASE\n",
              "1474         1       4                  0\n",
              "14980        2       4                  1\n",
              "13812        2       5                  1\n",
              "17468        2       5                  1\n",
              "2903         1       4                  0\n",
              "...        ...     ...                ...\n",
              "17798        2       5                  1\n",
              "7123         2       5                  0\n",
              "671          0       1                  0\n",
              "5606         1       5                  0\n",
              "5992         2       5                  0\n",
              "\n",
              "[15750 rows x 3 columns]"
            ]
          },
          "metadata": {},
          "execution_count": 38
        }
      ]
    },
    {
      "cell_type": "code",
      "metadata": {
        "colab": {
          "base_uri": "https://localhost:8080/"
        },
        "id": "TWfgfgFtPSJS",
        "outputId": "ec12db11-aba7-47e5-ba3d-78f878763f7a"
      },
      "source": [
        "y_train"
      ],
      "execution_count": 39,
      "outputs": [
        {
          "output_type": "execute_result",
          "data": {
            "text/plain": [
              "1474     0\n",
              "14980    1\n",
              "13812    1\n",
              "17468    1\n",
              "2903     0\n",
              "        ..\n",
              "17798    1\n",
              "7123     0\n",
              "671      0\n",
              "5606     0\n",
              "5992     0\n",
              "Name: LABEL, Length: 15750, dtype: int64"
            ]
          },
          "metadata": {},
          "execution_count": 39
        }
      ]
    },
    {
      "cell_type": "code",
      "metadata": {
        "colab": {
          "base_uri": "https://localhost:8080/",
          "height": 424
        },
        "id": "ybwx3YBDPK-p",
        "outputId": "d1041d77-05d4-48dc-ef66-5f1e00c571d5"
      },
      "source": [
        "X_test"
      ],
      "execution_count": 40,
      "outputs": [
        {
          "output_type": "execute_result",
          "data": {
            "text/html": [
              "<div>\n",
              "<style scoped>\n",
              "    .dataframe tbody tr th:only-of-type {\n",
              "        vertical-align: middle;\n",
              "    }\n",
              "\n",
              "    .dataframe tbody tr th {\n",
              "        vertical-align: top;\n",
              "    }\n",
              "\n",
              "    .dataframe thead th {\n",
              "        text-align: right;\n",
              "    }\n",
              "</style>\n",
              "<table border=\"1\" class=\"dataframe\">\n",
              "  <thead>\n",
              "    <tr style=\"text-align: right;\">\n",
              "      <th></th>\n",
              "      <th>Emotion</th>\n",
              "      <th>RATING</th>\n",
              "      <th>VERIFIED_PURCHASE</th>\n",
              "    </tr>\n",
              "  </thead>\n",
              "  <tbody>\n",
              "    <tr>\n",
              "      <th>19536</th>\n",
              "      <td>2</td>\n",
              "      <td>5</td>\n",
              "      <td>1</td>\n",
              "    </tr>\n",
              "    <tr>\n",
              "      <th>13019</th>\n",
              "      <td>2</td>\n",
              "      <td>1</td>\n",
              "      <td>1</td>\n",
              "    </tr>\n",
              "    <tr>\n",
              "      <th>1175</th>\n",
              "      <td>2</td>\n",
              "      <td>4</td>\n",
              "      <td>0</td>\n",
              "    </tr>\n",
              "    <tr>\n",
              "      <th>18321</th>\n",
              "      <td>2</td>\n",
              "      <td>4</td>\n",
              "      <td>1</td>\n",
              "    </tr>\n",
              "    <tr>\n",
              "      <th>2448</th>\n",
              "      <td>2</td>\n",
              "      <td>3</td>\n",
              "      <td>0</td>\n",
              "    </tr>\n",
              "    <tr>\n",
              "      <th>...</th>\n",
              "      <td>...</td>\n",
              "      <td>...</td>\n",
              "      <td>...</td>\n",
              "    </tr>\n",
              "    <tr>\n",
              "      <th>1439</th>\n",
              "      <td>2</td>\n",
              "      <td>1</td>\n",
              "      <td>0</td>\n",
              "    </tr>\n",
              "    <tr>\n",
              "      <th>11948</th>\n",
              "      <td>2</td>\n",
              "      <td>4</td>\n",
              "      <td>1</td>\n",
              "    </tr>\n",
              "    <tr>\n",
              "      <th>19969</th>\n",
              "      <td>2</td>\n",
              "      <td>5</td>\n",
              "      <td>1</td>\n",
              "    </tr>\n",
              "    <tr>\n",
              "      <th>16435</th>\n",
              "      <td>2</td>\n",
              "      <td>5</td>\n",
              "      <td>1</td>\n",
              "    </tr>\n",
              "    <tr>\n",
              "      <th>18213</th>\n",
              "      <td>2</td>\n",
              "      <td>5</td>\n",
              "      <td>1</td>\n",
              "    </tr>\n",
              "  </tbody>\n",
              "</table>\n",
              "<p>5250 rows × 3 columns</p>\n",
              "</div>"
            ],
            "text/plain": [
              "       Emotion  RATING  VERIFIED_PURCHASE\n",
              "19536        2       5                  1\n",
              "13019        2       1                  1\n",
              "1175         2       4                  0\n",
              "18321        2       4                  1\n",
              "2448         2       3                  0\n",
              "...        ...     ...                ...\n",
              "1439         2       1                  0\n",
              "11948        2       4                  1\n",
              "19969        2       5                  1\n",
              "16435        2       5                  1\n",
              "18213        2       5                  1\n",
              "\n",
              "[5250 rows x 3 columns]"
            ]
          },
          "metadata": {},
          "execution_count": 40
        }
      ]
    },
    {
      "cell_type": "code",
      "metadata": {
        "colab": {
          "base_uri": "https://localhost:8080/"
        },
        "id": "QL3lcUSJPLKS",
        "outputId": "e038bf88-91b1-4124-9b11-789cb84c39b6"
      },
      "source": [
        "y_test"
      ],
      "execution_count": 41,
      "outputs": [
        {
          "output_type": "execute_result",
          "data": {
            "text/plain": [
              "19536    1\n",
              "13019    1\n",
              "1175     0\n",
              "18321    1\n",
              "2448     0\n",
              "        ..\n",
              "1439     0\n",
              "11948    1\n",
              "19969    1\n",
              "16435    1\n",
              "18213    1\n",
              "Name: LABEL, Length: 5250, dtype: int64"
            ]
          },
          "metadata": {},
          "execution_count": 41
        }
      ]
    },
    {
      "cell_type": "code",
      "metadata": {
        "colab": {
          "base_uri": "https://localhost:8080/"
        },
        "id": "8Kc7INfd6zZS",
        "outputId": "5c9da14d-491a-474c-ff67-fe1d6f1491da"
      },
      "source": [
        "X_train, X_test, y_train, y_test"
      ],
      "execution_count": 42,
      "outputs": [
        {
          "output_type": "execute_result",
          "data": {
            "text/plain": [
              "(       Emotion  RATING  VERIFIED_PURCHASE\n",
              " 1474         1       4                  0\n",
              " 14980        2       4                  1\n",
              " 13812        2       5                  1\n",
              " 17468        2       5                  1\n",
              " 2903         1       4                  0\n",
              " ...        ...     ...                ...\n",
              " 17798        2       5                  1\n",
              " 7123         2       5                  0\n",
              " 671          0       1                  0\n",
              " 5606         1       5                  0\n",
              " 5992         2       5                  0\n",
              " \n",
              " [15750 rows x 3 columns],        Emotion  RATING  VERIFIED_PURCHASE\n",
              " 19536        2       5                  1\n",
              " 13019        2       1                  1\n",
              " 1175         2       4                  0\n",
              " 18321        2       4                  1\n",
              " 2448         2       3                  0\n",
              " ...        ...     ...                ...\n",
              " 1439         2       1                  0\n",
              " 11948        2       4                  1\n",
              " 19969        2       5                  1\n",
              " 16435        2       5                  1\n",
              " 18213        2       5                  1\n",
              " \n",
              " [5250 rows x 3 columns], 1474     0\n",
              " 14980    1\n",
              " 13812    1\n",
              " 17468    1\n",
              " 2903     0\n",
              "         ..\n",
              " 17798    1\n",
              " 7123     0\n",
              " 671      0\n",
              " 5606     0\n",
              " 5992     0\n",
              " Name: LABEL, Length: 15750, dtype: int64, 19536    1\n",
              " 13019    1\n",
              " 1175     0\n",
              " 18321    1\n",
              " 2448     0\n",
              "         ..\n",
              " 1439     0\n",
              " 11948    1\n",
              " 19969    1\n",
              " 16435    1\n",
              " 18213    1\n",
              " Name: LABEL, Length: 5250, dtype: int64)"
            ]
          },
          "metadata": {},
          "execution_count": 42
        }
      ]
    },
    {
      "cell_type": "code",
      "metadata": {
        "id": "ON0eRgbq6zZU"
      },
      "source": [
        "# from sklearn.feature_extraction.text import CountVectorizer\n",
        "# count_vector = CountVectorizer()\n",
        "# print(count_vector)"
      ],
      "execution_count": 43,
      "outputs": []
    },
    {
      "cell_type": "code",
      "metadata": {
        "id": "ejDpZueZQy0N"
      },
      "source": [
        "# training_data = count_vector.fit_transform(X_train)\n",
        "# testing_data = count_vector.transform(X_test)"
      ],
      "execution_count": 44,
      "outputs": []
    },
    {
      "cell_type": "code",
      "metadata": {
        "colab": {
          "base_uri": "https://localhost:8080/"
        },
        "id": "CX73c6Ir6zZU",
        "outputId": "5f066c10-e419-4728-c00a-cae6c3ca5130"
      },
      "source": [
        "from sklearn.naive_bayes import MultinomialNB\n",
        "naive_bayes = MultinomialNB()\n",
        "naive_bayes.fit(X_train, y_train)"
      ],
      "execution_count": 45,
      "outputs": [
        {
          "output_type": "execute_result",
          "data": {
            "text/plain": [
              "MultinomialNB()"
            ]
          },
          "metadata": {},
          "execution_count": 45
        }
      ]
    },
    {
      "cell_type": "code",
      "metadata": {
        "id": "Fojl1DHk6zZV"
      },
      "source": [
        "predictions = naive_bayes.predict(X_test)"
      ],
      "execution_count": 46,
      "outputs": []
    },
    {
      "cell_type": "code",
      "metadata": {
        "colab": {
          "base_uri": "https://localhost:8080/"
        },
        "id": "nijH0Bzx6zZW",
        "outputId": "2a7a4d40-23b8-4b48-8a6f-98ca56ba3606"
      },
      "source": [
        "from sklearn.metrics import accuracy_score, precision_score, recall_score, f1_score\n",
        "mnbaccuracy = accuracy_score(y_test, predictions)\n",
        "print('Accuracy score: ', format(accuracy_score(y_test, predictions)))\n",
        "print('Precision score: ', format(precision_score(y_test, predictions)))\n",
        "print('Recall score: ', format(recall_score(y_test, predictions)))\n",
        "print('F1 score: ', format(f1_score(y_test, predictions)))"
      ],
      "execution_count": 47,
      "outputs": [
        {
          "output_type": "stream",
          "name": "stdout",
          "text": [
            "Accuracy score:  0.7826666666666666\n",
            "Precision score:  0.7581252138214164\n",
            "Recall score:  0.8362264150943396\n",
            "F1 score:  0.7952628745738382\n"
          ]
        }
      ]
    },
    {
      "cell_type": "code",
      "metadata": {
        "colab": {
          "base_uri": "https://localhost:8080/"
        },
        "id": "65qOPoxs6zZW",
        "outputId": "b17e427e-8173-429d-8a5b-ab5da3db811e"
      },
      "source": [
        "from sklearn.svm import SVC \n",
        "svc = SVC()\n",
        "svc.fit(X_train, y_train)"
      ],
      "execution_count": 48,
      "outputs": [
        {
          "output_type": "execute_result",
          "data": {
            "text/plain": [
              "SVC()"
            ]
          },
          "metadata": {},
          "execution_count": 48
        }
      ]
    },
    {
      "cell_type": "code",
      "metadata": {
        "id": "NZCCE9jw6zZX"
      },
      "source": [
        "svc_predictions = svc.predict(X_test)"
      ],
      "execution_count": 49,
      "outputs": []
    },
    {
      "cell_type": "code",
      "metadata": {
        "colab": {
          "base_uri": "https://localhost:8080/"
        },
        "id": "2rNMXjr96zZY",
        "outputId": "a5313aa1-1c84-4a50-f303-d59b4120d9ef"
      },
      "source": [
        "from sklearn.metrics import accuracy_score\n",
        "svcaccuracy = accuracy_score(y_test,svc_predictions)\n",
        "print('Accuracy score: ', format(accuracy_score(y_test,svc_predictions)))\n",
        "print('Precision score: ', format(precision_score(y_test,svc_predictions)))\n",
        "print('Recall score: ', format(recall_score(y_test, svc_predictions)))\n",
        "print('F1 score: ', format(f1_score(y_test, svc_predictions)))"
      ],
      "execution_count": 50,
      "outputs": [
        {
          "output_type": "stream",
          "name": "stdout",
          "text": [
            "Accuracy score:  0.7826666666666666\n",
            "Precision score:  0.7581252138214164\n",
            "Recall score:  0.8362264150943396\n",
            "F1 score:  0.7952628745738382\n"
          ]
        }
      ]
    },
    {
      "cell_type": "code",
      "metadata": {
        "colab": {
          "base_uri": "https://localhost:8080/"
        },
        "id": "8-107FWO6zZZ",
        "outputId": "bdafd0e2-d5e4-43a9-ba08-60800d5817c5"
      },
      "source": [
        "from sklearn.neighbors import KNeighborsClassifier \n",
        "knn = KNeighborsClassifier(n_neighbors = 7)\n",
        "knn.fit(X_train, y_train)"
      ],
      "execution_count": 51,
      "outputs": [
        {
          "output_type": "execute_result",
          "data": {
            "text/plain": [
              "KNeighborsClassifier(n_neighbors=7)"
            ]
          },
          "metadata": {},
          "execution_count": 51
        }
      ]
    },
    {
      "cell_type": "code",
      "metadata": {
        "id": "Rqoxzr-_6zZa"
      },
      "source": [
        "knn_predictions = knn.predict(X_test)"
      ],
      "execution_count": 52,
      "outputs": []
    },
    {
      "cell_type": "code",
      "metadata": {
        "colab": {
          "base_uri": "https://localhost:8080/"
        },
        "id": "7Y5JFjYw6zZb",
        "outputId": "570214a5-6309-4c39-da61-f12f21a68a3e"
      },
      "source": [
        "from sklearn.metrics import accuracy_score\n",
        "knnaccuracy = accuracy_score(knn_predictions,y_test )\n",
        "print('Accuracy score: ', format(accuracy_score(knn_predictions,y_test )))\n",
        "print('Precision score: ', format(precision_score(y_test,knn_predictions)))\n",
        "print('Recall score: ', format(recall_score(y_test, knn_predictions)))\n",
        "print('F1 score: ', format(f1_score(y_test, knn_predictions)))"
      ],
      "execution_count": 53,
      "outputs": [
        {
          "output_type": "stream",
          "name": "stdout",
          "text": [
            "Accuracy score:  0.7742857142857142\n",
            "Precision score:  0.7585598305683021\n",
            "Recall score:  0.8109433962264151\n",
            "F1 score:  0.7838774393580157\n"
          ]
        }
      ]
    },
    {
      "cell_type": "code",
      "metadata": {
        "id": "X9VysTzC6zZc"
      },
      "source": [
        "# from sklearn.naive_bayes import GaussianNB \n",
        "# gnb = GaussianNB()\n",
        "# training_data1 = training_data.toarray()\n",
        "# gnb.fit(training_data1, y_train)"
      ],
      "execution_count": 54,
      "outputs": []
    },
    {
      "cell_type": "code",
      "metadata": {
        "id": "cEtruKVx6zZd"
      },
      "source": [
        "# testing_data1= testing_data.toarray()\n",
        "# gnb_predictions = gnb.predict(testing_data1)"
      ],
      "execution_count": 55,
      "outputs": []
    },
    {
      "cell_type": "code",
      "metadata": {
        "id": "JUws0Gka6zZg"
      },
      "source": [
        "# from sklearn.metrics import accuracy_score\n",
        "# gnb_accuracy = accuracy_score(gnb_predictions,y_test )\n",
        "# print('Accuracy score: ', format(accuracy_score(gnb_predictions,y_test )))\n",
        "# print('Precision score: ', format(precision_score(y_test,gnb_predictions)))\n",
        "# print('Recall score: ', format(recall_score(y_test, gnb_predictions)))\n",
        "# print('F1 score: ', format(f1_score(y_test, gnb_predictions)))"
      ],
      "execution_count": 56,
      "outputs": []
    },
    {
      "cell_type": "code",
      "metadata": {
        "colab": {
          "base_uri": "https://localhost:8080/"
        },
        "id": "9cfQoA3M6zZh",
        "outputId": "85ba9b4f-6a80-4841-9f70-f186ee72b537"
      },
      "source": [
        "# training a DescisionTreeClassifier \n",
        "from sklearn.tree import DecisionTreeClassifier \n",
        "dtree_model = DecisionTreeClassifier(max_depth = 2)\n",
        "dtree_model.fit(X_train, y_train)"
      ],
      "execution_count": 57,
      "outputs": [
        {
          "output_type": "execute_result",
          "data": {
            "text/plain": [
              "DecisionTreeClassifier(max_depth=2)"
            ]
          },
          "metadata": {},
          "execution_count": 57
        }
      ]
    },
    {
      "cell_type": "code",
      "metadata": {
        "id": "HKS-x6Fu6zZj"
      },
      "source": [
        "dtree_predictions = dtree_model.predict(X_test) "
      ],
      "execution_count": 58,
      "outputs": []
    },
    {
      "cell_type": "code",
      "metadata": {
        "colab": {
          "base_uri": "https://localhost:8080/"
        },
        "id": "Epdz1WJM6zZk",
        "outputId": "dbcccb5b-d967-45b1-8fd8-d30c3c511652"
      },
      "source": [
        "from sklearn.metrics import accuracy_score\n",
        "dtree_accuracy = accuracy_score(dtree_predictions,y_test )\n",
        "print('Accuracy score: ', format(accuracy_score(dtree_predictions,y_test )))\n",
        "print('Precision score: ', format(precision_score(y_test,dtree_predictions)))\n",
        "print('Recall score: ', format(recall_score(y_test, dtree_predictions)))\n",
        "print('F1 score: ', format(f1_score(y_test, dtree_predictions)))"
      ],
      "execution_count": 59,
      "outputs": [
        {
          "output_type": "stream",
          "name": "stdout",
          "text": [
            "Accuracy score:  0.7826666666666666\n",
            "Precision score:  0.7581252138214164\n",
            "Recall score:  0.8362264150943396\n",
            "F1 score:  0.7952628745738382\n"
          ]
        }
      ]
    },
    {
      "cell_type": "code",
      "metadata": {
        "id": "Jk3_snKQ6zZl"
      },
      "source": [
        "from sklearn.linear_model import SGDClassifier"
      ],
      "execution_count": 60,
      "outputs": []
    },
    {
      "cell_type": "code",
      "metadata": {
        "colab": {
          "base_uri": "https://localhost:8080/"
        },
        "id": "CevHl5sa6zZl",
        "outputId": "fa76eb69-0b5d-45f7-877c-6a10bfd64498"
      },
      "source": [
        "sgd_clf = SGDClassifier()\n",
        "sgd_clf.fit(X_train, y_train)"
      ],
      "execution_count": 61,
      "outputs": [
        {
          "output_type": "execute_result",
          "data": {
            "text/plain": [
              "SGDClassifier()"
            ]
          },
          "metadata": {},
          "execution_count": 61
        }
      ]
    },
    {
      "cell_type": "code",
      "metadata": {
        "id": "fjb4LJ1k6zZm"
      },
      "source": [
        "sgdpredicted = sgd_clf.predict(X_test)"
      ],
      "execution_count": 62,
      "outputs": []
    },
    {
      "cell_type": "code",
      "metadata": {
        "colab": {
          "base_uri": "https://localhost:8080/"
        },
        "id": "JKoo2Ne_6zZn",
        "outputId": "dab9a7c6-c5f3-40be-978d-959200d7a713"
      },
      "source": [
        "from sklearn.metrics import accuracy_score\n",
        "sgd_accuracy = accuracy_score(sgdpredicted,y_test )\n",
        "print('Accuracy score: ', format(accuracy_score(sgdpredicted,y_test )))\n",
        "print('Precision score: ', format(precision_score(y_test,sgdpredicted)))\n",
        "print('Recall score: ', format(recall_score(y_test, sgdpredicted)))\n",
        "print('F1 score: ', format(f1_score(y_test, sgdpredicted)))"
      ],
      "execution_count": 63,
      "outputs": [
        {
          "output_type": "stream",
          "name": "stdout",
          "text": [
            "Accuracy score:  0.7826666666666666\n",
            "Precision score:  0.7581252138214164\n",
            "Recall score:  0.8362264150943396\n",
            "F1 score:  0.7952628745738382\n"
          ]
        }
      ]
    },
    {
      "cell_type": "code",
      "metadata": {
        "id": "btj9SGRK6zZo"
      },
      "source": [
        "from sklearn.linear_model import LogisticRegression"
      ],
      "execution_count": 64,
      "outputs": []
    },
    {
      "cell_type": "code",
      "metadata": {
        "colab": {
          "base_uri": "https://localhost:8080/"
        },
        "id": "KmpNgZLD6zZo",
        "outputId": "c78db01f-3b11-49b9-9ae2-36369bdc0e52"
      },
      "source": [
        "lr = LogisticRegression()\n",
        "lr.fit(X_train, y_train)"
      ],
      "execution_count": 65,
      "outputs": [
        {
          "output_type": "execute_result",
          "data": {
            "text/plain": [
              "LogisticRegression()"
            ]
          },
          "metadata": {},
          "execution_count": 65
        }
      ]
    },
    {
      "cell_type": "code",
      "metadata": {
        "id": "sVgNLNCv6zZp"
      },
      "source": [
        "lrpredicted = lr.predict(X_test)"
      ],
      "execution_count": 66,
      "outputs": []
    },
    {
      "cell_type": "code",
      "metadata": {
        "colab": {
          "base_uri": "https://localhost:8080/"
        },
        "id": "VVS_cxA-6zZr",
        "outputId": "952eadad-434a-4a59-ca24-c3a6bc89173b"
      },
      "source": [
        "from sklearn.metrics import accuracy_score\n",
        "lr_accuracy = accuracy_score(lrpredicted,y_test )\n",
        "print('Accuracy score: ', format(accuracy_score(lrpredicted,y_test )))\n",
        "print('Precision score: ', format(precision_score(y_test,lrpredicted)))\n",
        "print('Recall score: ', format(recall_score(y_test, lrpredicted)))\n",
        "print('F1 score: ', format(f1_score(y_test, lrpredicted)))"
      ],
      "execution_count": 67,
      "outputs": [
        {
          "output_type": "stream",
          "name": "stdout",
          "text": [
            "Accuracy score:  0.7826666666666666\n",
            "Precision score:  0.7581252138214164\n",
            "Recall score:  0.8362264150943396\n",
            "F1 score:  0.7952628745738382\n"
          ]
        }
      ]
    },
    {
      "cell_type": "code",
      "metadata": {
        "colab": {
          "base_uri": "https://localhost:8080/"
        },
        "id": "U6rEzfiWlpWg",
        "outputId": "a4dffa1a-0730-41ba-e329-f2abeba76211"
      },
      "source": [
        "from sklearn.ensemble import AdaBoostClassifier\n",
        "adaboost = AdaBoostClassifier(n_estimators=50, base_estimator= None,learning_rate=0.03, random_state = 1)\n",
        "adaboost.fit(X_train,y_train)"
      ],
      "execution_count": 68,
      "outputs": [
        {
          "output_type": "execute_result",
          "data": {
            "text/plain": [
              "AdaBoostClassifier(learning_rate=0.03, random_state=1)"
            ]
          },
          "metadata": {},
          "execution_count": 68
        }
      ]
    },
    {
      "cell_type": "code",
      "metadata": {
        "id": "6nVYV7f7oLar"
      },
      "source": [
        "adaboostpredicted = adaboost.predict(X_test)"
      ],
      "execution_count": 69,
      "outputs": []
    },
    {
      "cell_type": "code",
      "metadata": {
        "colab": {
          "base_uri": "https://localhost:8080/"
        },
        "id": "M5Zc34gNmaje",
        "outputId": "c7320734-d4d7-4179-a64d-549ceef5dc07"
      },
      "source": [
        "from sklearn.metrics import accuracy_score\n",
        "adaboost_accuracy = accuracy_score(adaboostpredicted,y_test )\n",
        "print('Accuracy score: ', format(accuracy_score(adaboostpredicted,y_test )))\n",
        "print('Precision score: ', format(precision_score(y_test,adaboostpredicted)))\n",
        "print('Recall score: ', format(recall_score(y_test, adaboostpredicted)))\n",
        "print('F1 score: ', format(f1_score(y_test, adaboostpredicted)))"
      ],
      "execution_count": 70,
      "outputs": [
        {
          "output_type": "stream",
          "name": "stdout",
          "text": [
            "Accuracy score:  0.7826666666666666\n",
            "Precision score:  0.7581252138214164\n",
            "Recall score:  0.8362264150943396\n",
            "F1 score:  0.7952628745738382\n"
          ]
        }
      ]
    },
    {
      "cell_type": "code",
      "metadata": {
        "id": "Mo9yTauxulvY"
      },
      "source": [
        "rf = RandomForestClassifier(n_estimators=100)"
      ],
      "execution_count": 71,
      "outputs": []
    },
    {
      "cell_type": "code",
      "metadata": {
        "colab": {
          "base_uri": "https://localhost:8080/"
        },
        "id": "REat0SB2upXu",
        "outputId": "66b40da6-cf5d-4ad3-86ad-c6453a77036c"
      },
      "source": [
        "bag_clf = BaggingClassifier(base_estimator=rf, n_estimators=100, bootstrap=True, n_jobs=-1, random_state=42)\n",
        "bag_clf.fit(X_train, y_train)"
      ],
      "execution_count": 72,
      "outputs": [
        {
          "output_type": "execute_result",
          "data": {
            "text/plain": [
              "BaggingClassifier(base_estimator=RandomForestClassifier(), n_estimators=100,\n",
              "                  n_jobs=-1, random_state=42)"
            ]
          },
          "metadata": {},
          "execution_count": 72
        }
      ]
    },
    {
      "cell_type": "code",
      "metadata": {
        "id": "Uq3baZTUvY5w"
      },
      "source": [
        "#bag_clf.score(X_train,y_train),bag_clf.score(X_test,y_test)\n",
        "bag_clfpredicted = bag_clf.predict(X_test)"
      ],
      "execution_count": 73,
      "outputs": []
    },
    {
      "cell_type": "code",
      "metadata": {
        "colab": {
          "base_uri": "https://localhost:8080/"
        },
        "id": "RDEt5Zp0wHGF",
        "outputId": "2f72e762-19d9-41a3-d4c7-b2f1ad61b989"
      },
      "source": [
        "from sklearn.metrics import accuracy_score\n",
        "bag_clfpredicted_accuracy = accuracy_score(bag_clfpredicted,y_test )\n",
        "print('Accuracy score: ', format(accuracy_score(bag_clfpredicted,y_test )))\n",
        "print('Precision score: ', format(precision_score(y_test,bag_clfpredicted)))\n",
        "print('Recall score: ', format(recall_score(y_test, bag_clfpredicted)))\n",
        "print('F1 score: ', format(f1_score(y_test, bag_clfpredicted)))"
      ],
      "execution_count": 74,
      "outputs": [
        {
          "output_type": "stream",
          "name": "stdout",
          "text": [
            "Accuracy score:  0.7826666666666666\n",
            "Precision score:  0.7581252138214164\n",
            "Recall score:  0.8362264150943396\n",
            "F1 score:  0.7952628745738382\n"
          ]
        }
      ]
    },
    {
      "cell_type": "code",
      "metadata": {
        "id": "TN4qSW056zZs"
      },
      "source": [
        "from sklearn.metrics import precision_recall_curve\n",
        "from sklearn.metrics import f1_score\n",
        "from sklearn.metrics import auc\n",
        "from sklearn.metrics import average_precision_score"
      ],
      "execution_count": 75,
      "outputs": []
    },
    {
      "cell_type": "code",
      "metadata": {
        "colab": {
          "base_uri": "https://localhost:8080/"
        },
        "id": "VtkGkSwD6zZs",
        "outputId": "7d35df53-450e-4934-c408-4041f383d176"
      },
      "source": [
        "print('Multinomial Naive Bayes:',mnbaccuracy)\n",
        "#print('Gausian Naive Bayes:',gnb_accuracy)\n",
        "print('Decision tree:',dtree_accuracy)\n",
        "print('Support Vector Classifier:',svcaccuracy)\n",
        "print('K-Nearest Neighbour:',knnaccuracy)\n",
        "print('Stochastic Gradient Descent:',sgd_accuracy)\n",
        "print('LogisticRegression:',lr_accuracy)\n",
        "print('AdaBoostClassifier:',adaboost_accuracy)\n",
        "print('BaggingClassifier',bag_clfpredicted_accuracy)"
      ],
      "execution_count": 76,
      "outputs": [
        {
          "output_type": "stream",
          "name": "stdout",
          "text": [
            "Multinomial Naive Bayes: 0.7826666666666666\n",
            "Decision tree: 0.7826666666666666\n",
            "Support Vector Classifier: 0.7826666666666666\n",
            "K-Nearest Neighbour: 0.7742857142857142\n",
            "Stochastic Gradient Descent: 0.7826666666666666\n",
            "LogisticRegression: 0.7826666666666666\n",
            "AdaBoostClassifier: 0.7826666666666666\n",
            "BaggingClassifier 0.7826666666666666\n"
          ]
        }
      ]
    },
    {
      "cell_type": "code",
      "metadata": {
        "id": "gL2VEEy8gdz9"
      },
      "source": [
        "#Emotion','RATING','VERIFIED_PURCHASE\n",
        "# Multinomial Naive Bayes: 0.7897142857142857\n",
        "# Decision tree: 0.7897142857142857\n",
        "# Support Vector Classifier: 0.7897142857142857\n",
        "# K-Nearest Neighbour: 0.6506666666666666\n",
        "# Stochastic Gradient Descent: 0.7897142857142857\n",
        "# LogisticRegression: 0.7897142857142857"
      ],
      "execution_count": 77,
      "outputs": []
    },
    {
      "cell_type": "code",
      "metadata": {
        "id": "gmTerM0vhZUm"
      },
      "source": [
        "#'RATING','VERIFIED_PURCHASE'\n",
        "# Multinomial Naive Bayes: 0.7843809523809524\n",
        "# Decision tree: 0.7843809523809524\n",
        "# Support Vector Classifier: 0.7843809523809524\n",
        "# K-Nearest Neighbour: 0.7843809523809524\n",
        "# Stochastic Gradient Descent: 0.7843809523809524\n",
        "# LogisticRegression: 0.7843809523809524"
      ],
      "execution_count": 78,
      "outputs": []
    },
    {
      "cell_type": "code",
      "metadata": {
        "id": "Y7gX304Ajzb4"
      },
      "source": [
        "# VERIFIED_PURCHASE\n",
        "# Multinomial Naive Bayes: 0.49714285714285716\n",
        "# Decision tree: 0.7876190476190477\n",
        "# Support Vector Classifier: 0.7876190476190477\n",
        "# K-Nearest Neighbour: 0.49714285714285716\n",
        "# Stochastic Gradient Descent: 0.7876190476190477\n",
        "# LogisticRegression: 0.7876190476190477"
      ],
      "execution_count": 79,
      "outputs": []
    },
    {
      "cell_type": "code",
      "metadata": {
        "id": "HjwSqXwXdL0I"
      },
      "source": [
        "#Emotion','RATING'\n",
        "# Multinomial Naive Bayes: 0.4900952380952381\n",
        "# Decision tree: 0.49123809523809525\n",
        "# Support Vector Classifier: 0.4908571428571429\n",
        "# K-Nearest Neighbour: 0.508\n",
        "# Stochastic Gradient Descent: 0.5104761904761905\n",
        "# LogisticRegression: 0.49028571428571427"
      ],
      "execution_count": 80,
      "outputs": []
    },
    {
      "cell_type": "code",
      "metadata": {
        "id": "hhBj3JHJ6zZt"
      },
      "source": [
        "# from sklearn.cluster import KMeans\n",
        "# kmeans = KMeans(n_clusters=2)\n",
        "# kmeans.fit(X_train)\n",
        "# y_kmeans = kmeans.predict(X_train)"
      ],
      "execution_count": 81,
      "outputs": []
    },
    {
      "cell_type": "code",
      "metadata": {
        "id": "06RQ_X73JATK"
      },
      "source": [
        "# from nltk.stem.porter import PorterStemmer\n",
        "# from nltk.corpus import stopwords"
      ],
      "execution_count": 82,
      "outputs": []
    },
    {
      "cell_type": "code",
      "metadata": {
        "id": "Jc_b7ZudJBZM"
      },
      "source": [
        "# ps = PorterStemmer()"
      ],
      "execution_count": 83,
      "outputs": []
    },
    {
      "cell_type": "code",
      "metadata": {
        "id": "t_gXkKOjJMKt"
      },
      "source": [
        "# stemmed_dataset = []\n",
        "# for i in range(0,21000):\n",
        "#     stemmed_array = df['REVIEW_TEXT'][i].split()\n",
        "#     stemmed = [ps.stem(word) for word in stemmed_array if not word in set(stopwords.words('english'))]\n",
        "#     stemmed = ' '.join(stemmed)\n",
        "#     stemmed_dataset.append(stemmed)"
      ],
      "execution_count": 84,
      "outputs": []
    },
    {
      "cell_type": "code",
      "metadata": {
        "id": "_2Md2Tt66zZu"
      },
      "source": [
        "# print(stemmed[0:21000])"
      ],
      "execution_count": 85,
      "outputs": []
    },
    {
      "cell_type": "code",
      "metadata": {
        "id": "OAZO6pSx6zZu"
      },
      "source": [
        "# # roc curve and auc\n",
        "# from sklearn.datasets import make_classification\n",
        "# from sklearn.neighbors import KNeighborsClassifier\n",
        "# from sklearn.model_selection import train_test_split\n",
        "# from sklearn.metrics import roc_curve\n",
        "# from sklearn.metrics import roc_auc_score\n",
        "# from matplotlib import pyplot\n",
        "\n",
        "# # split into train/test sets\n",
        "# trainX, testX, trainy, testy = train_test_split(x, y, test_size=0.3, random_state=2)\n",
        "# #vectorizer\n",
        "# training_data = count_vector.fit_transform(trainX)\n",
        "# testing_data = count_vector.transform(testX)\n",
        "# # fit a model\n",
        "# model = KNeighborsClassifier(n_neighbors=3)\n",
        "# model.fit(training_data, trainy)\n",
        "# # predict probabilities\n",
        "# probs = model.predict_proba(testing_data)\n",
        "# # keep probabilities for the positive outcome only\n",
        "# probs = probs[:, 1]\n",
        "# # calculate AUC\n",
        "# auc = roc_auc_score(testy, probs)\n",
        "# print('AUC: %.3f' % auc)\n",
        "# # calculate roc curve\n",
        "# fpr, tpr, thresholds = roc_curve(testy, probs)\n",
        "# # plot no skill\n",
        "# pyplot.plot([0, 1], [0, 1], linestyle='--')\n",
        "# # plot the roc curve for the model\n",
        "# pyplot.plot(fpr, tpr, marker='.')\n",
        "# # show the plot\n",
        "# pyplot.show()"
      ],
      "execution_count": 86,
      "outputs": []
    },
    {
      "cell_type": "code",
      "metadata": {
        "id": "VHwLtweP6zZv"
      },
      "source": [
        "# # roc curve and auc\n",
        "# from sklearn.datasets import make_classification\n",
        "# from sklearn.neighbors import KNeighborsClassifier\n",
        "# from sklearn.model_selection import train_test_split\n",
        "# from sklearn.metrics import roc_curve\n",
        "# from sklearn.metrics import roc_auc_score\n",
        "# from matplotlib import pyplot\n",
        "\n",
        "# # split into train/test sets\n",
        "# trainX, testX, trainy, testy = train_test_split(x, y, test_size=0.3, random_state=2)\n",
        "# #vectorizer\n",
        "# training_data = count_vector.fit_transform(trainX)\n",
        "# testing_data = count_vector.transform(testX)\n",
        "# # fit a model\n",
        "# model = LogisticRegression()\n",
        "# model.fit(training_data, trainy)\n",
        "# # predict probabilities\n",
        "# probs = model.predict_proba(testing_data)\n",
        "# # keep probabilities for the positive outcome only\n",
        "# probs = probs[:, 1]\n",
        "# # calculate AUC\n",
        "# auc = roc_auc_score(testy, probs)\n",
        "# print('AUC: %.3f' % auc)\n",
        "# # calculate roc curve\n",
        "# fpr, tpr, thresholds = roc_curve(testy, probs)\n",
        "# # plot no skill\n",
        "# pyplot.plot([0, 1], [0, 1], linestyle='--')\n",
        "# # plot the roc curve for the model\n",
        "# pyplot.plot(fpr, tpr, marker='.')\n",
        "# # show the plot\n",
        "# pyplot.show()"
      ],
      "execution_count": 87,
      "outputs": []
    },
    {
      "cell_type": "code",
      "metadata": {
        "id": "z3OZ38-O6zZw"
      },
      "source": [
        "# # roc curve and auc\n",
        "# from sklearn.datasets import make_classification\n",
        "# from sklearn.neighbors import KNeighborsClassifier\n",
        "# from sklearn.model_selection import train_test_split\n",
        "# from sklearn.metrics import roc_curve\n",
        "# from sklearn.metrics import roc_auc_score\n",
        "# from matplotlib import pyplot\n",
        "\n",
        "# # split into train/test sets\n",
        "# trainX, testX, trainy, testy = train_test_split(x, y, test_size=0.3, random_state=2)\n",
        "# #vectorizer\n",
        "# training_data = count_vector.fit_transform(trainX)\n",
        "# testing_data = count_vector.transform(testX)\n",
        "# # fit a model\n",
        "# model = DecisionTreeClassifier(max_depth = 2)\n",
        "# model.fit(training_data, trainy)\n",
        "# # predict probabilities\n",
        "# probs = model.predict_proba(testing_data)\n",
        "# # keep probabilities for the positive outcome only\n",
        "# probs = probs[:, 1]\n",
        "# # calculate AUC\n",
        "# auc = roc_auc_score(testy, probs)\n",
        "# print('AUC: %.3f' % auc)\n",
        "# # calculate roc curve\n",
        "# fpr, tpr, thresholds = roc_curve(testy, probs)\n",
        "# # plot no skill\n",
        "# pyplot.plot([0, 1], [0, 1], linestyle='--')\n",
        "# # plot the roc curve for the model\n",
        "# pyplot.plot(fpr, tpr, marker='.')\n",
        "# # show the plot\n",
        "# pyplot.show()"
      ],
      "execution_count": 88,
      "outputs": []
    },
    {
      "cell_type": "code",
      "metadata": {
        "id": "Gl9NRR0i6zZx"
      },
      "source": [
        "# # roc curve and auc\n",
        "# from sklearn.datasets import make_classification\n",
        "# from sklearn.neighbors import KNeighborsClassifier\n",
        "# from sklearn.model_selection import train_test_split\n",
        "# from sklearn.metrics import roc_curve\n",
        "# from sklearn.metrics import roc_auc_score\n",
        "# from matplotlib import pyplot\n",
        "\n",
        "# # split into train/test sets\n",
        "# trainX, testX, trainy, testy = train_test_split(x, y, test_size=0.3, random_state=2)\n",
        "# #vectorizer\n",
        "# training_data = count_vector.fit_transform(trainX)\n",
        "# testing_data = count_vector.transform(testX)\n",
        "# # fit a model\n",
        "# model = GaussianNB()\n",
        "# training_data1 = training_data.toarray()\n",
        "# model.fit(training_data1, trainy)\n",
        "# # predict probabilities\n",
        "# testing_data1 = testing_data.toarray()\n",
        "# probs = model.predict_proba(testing_data1)\n",
        "# # keep probabilities for the positive outcome only\n",
        "# probs = probs[:, 1]\n",
        "# # calculate AUC\n",
        "# auc = roc_auc_score(testy, probs)\n",
        "# print('AUC: %.3f' % auc)\n",
        "# # calculate roc curve\n",
        "# fpr, tpr, thresholds = roc_curve(testy, probs)\n",
        "# # plot no skill\n",
        "# pyplot.plot([0, 1], [0, 1], linestyle='--')\n",
        "# # plot the roc curve for the model\n",
        "# pyplot.plot(fpr, tpr, marker='.')\n",
        "# # show the plot\n",
        "# pyplot.show()"
      ],
      "execution_count": 89,
      "outputs": []
    },
    {
      "cell_type": "code",
      "metadata": {
        "id": "4MeISTX76zZz"
      },
      "source": [
        "# # roc curve and auc\n",
        "# from sklearn.datasets import make_classification\n",
        "# from sklearn.neighbors import KNeighborsClassifier\n",
        "# from sklearn.model_selection import train_test_split\n",
        "# from sklearn.metrics import roc_curve\n",
        "# from sklearn.metrics import roc_auc_score\n",
        "# from matplotlib import pyplot\n",
        "\n",
        "# # split into train/test sets\n",
        "# trainX, testX, trainy, testy = train_test_split(x, y, test_size=0.3, random_state=2)\n",
        "# #vectorizer\n",
        "# training_data = count_vector.fit_transform(trainX)\n",
        "# testing_data = count_vector.transform(testX)\n",
        "# # fit a model\n",
        "# model = MultinomialNB()\n",
        "# model.fit(training_data, trainy)\n",
        "# # predict probabilities\n",
        "# probs = model.predict_proba(testing_data)\n",
        "# # keep probabilities for the positive outcome only\n",
        "# probs = probs[:, 1]\n",
        "# # calculate AUC\n",
        "# auc = roc_auc_score(testy, probs)\n",
        "# print('AUC: %.3f' % auc)\n",
        "# # calculate roc curve\n",
        "# fpr, tpr, thresholds = roc_curve(testy, probs)\n",
        "# # plot no skill\n",
        "# pyplot.plot([0, 1], [0, 1], linestyle='--')\n",
        "# # plot the roc curve for the model\n",
        "# pyplot.plot(fpr, tpr, marker='.')\n",
        "# # show the plot\n",
        "# pyplot.show()"
      ],
      "execution_count": 90,
      "outputs": []
    },
    {
      "cell_type": "code",
      "metadata": {
        "id": "UABM_gJG6zZ0"
      },
      "source": [
        "# # roc curve and auc\n",
        "# from sklearn.datasets import make_classification\n",
        "# from sklearn.neighbors import KNeighborsClassifier\n",
        "# from sklearn.model_selection import train_test_split\n",
        "# from sklearn.metrics import roc_curve\n",
        "# from sklearn.metrics import roc_auc_score\n",
        "# from matplotlib import pyplot\n",
        "\n",
        "# # split into train/test sets\n",
        "# trainX, testX, trainy, testy = train_test_split(x, y, test_size=0.3, random_state=2)\n",
        "# #vectorizer\n",
        "# training_data = count_vector.fit_transform(trainX)\n",
        "# testing_data = count_vector.transform(testX)\n",
        "# # fit a model\n",
        "# model = SVC()\n",
        "# model.fit(training_data, trainy)\n",
        "# # predict probabilities\n",
        "# probs = model.predict_proba(testing_data)\n",
        "# # keep probabilities for the positive outcome only\n",
        "# probs = probs[:, 1]\n",
        "# # calculate AUC\n",
        "# auc = roc_auc_score(testy, probs)\n",
        "# print('AUC: %.3f' % auc)\n",
        "# # calculate roc curve\n",
        "# fpr, tpr, thresholds = roc_curve(testy, probs)\n",
        "# # plot no skill\n",
        "# pyplot.plot([0, 1], [0, 1], linestyle='--')\n",
        "# # plot the roc curve for the model\n",
        "# pyplot.plot(fpr, tpr, marker='.')\n",
        "# # show the plot\n",
        "# pyplot.show()"
      ],
      "execution_count": 91,
      "outputs": []
    },
    {
      "cell_type": "code",
      "metadata": {
        "id": "tRwB2GzS6zZ1"
      },
      "source": [
        ""
      ],
      "execution_count": 91,
      "outputs": []
    }
  ]
}